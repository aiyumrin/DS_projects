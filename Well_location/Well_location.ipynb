{
 "cells": [
  {
   "cell_type": "markdown",
   "metadata": {},
   "source": [
    "# Выбор локации для скважины"
   ]
  },
  {
   "attachments": {},
   "cell_type": "markdown",
   "metadata": {},
   "source": [
    "Нужно решить, где бурить новую скважину.\n",
    "\n",
    "Предоставлены пробы нефти в трёх регионах: в каждом 10 000 месторождений, где измерили качество нефти и объём её запасов. Постройте модель машинного обучения, которая поможет определить регион, где добыча принесёт наибольшую прибыль. Проанализируйте возможную прибыль и риски техникой *Bootstrap.*\n",
    "\n",
    "Шаги для выбора локации:\n",
    "\n",
    "- В избранном регионе ищут месторождения, для каждого определяют значения признаков;\n",
    "- Строят модель и оценивают объём запасов;\n",
    "- Выбирают месторождения с самыми высокими оценками значений. Количество месторождений зависит от бюджета компании и стоимости разработки одной скважины;\n",
    "- Прибыль равна суммарной прибыли отобранных месторождений."
   ]
  },
  {
   "attachments": {},
   "cell_type": "markdown",
   "metadata": {},
   "source": [
    "**Условия задачи:**\n",
    "\n",
    "- Для обучения модели подходит только линейная регрессия (остальные — недостаточно предсказуемые).\n",
    "- При разведке региона исследуют 500 точек, из которых с помощью машинного обучения выбирают 200 лучших для разработки.\n",
    "- Бюджет на разработку скважин в регионе — 10 млрд рублей.\n",
    "- При нынешних ценах один баррель сырья приносит 450 рублей дохода. Доход с каждой единицы продукта составляет 450 тыс. рублей, поскольку объём указан в тысячах баррелей.\n",
    "- После оценки рисков нужно оставить лишь те регионы, в которых вероятность убытков меньше 2.5%. Среди них выбирают регион с наибольшей средней прибылью."
   ]
  },
  {
   "cell_type": "markdown",
   "metadata": {},
   "source": [
    "## Загрузка и подготовка данных"
   ]
  },
  {
   "cell_type": "markdown",
   "metadata": {},
   "source": [
    "Импортируем необходимые библиотеки."
   ]
  },
  {
   "cell_type": "code",
   "execution_count": 1,
   "metadata": {},
   "outputs": [],
   "source": [
    "import pandas as pd\n",
    "from sklearn.model_selection import train_test_split\n",
    "from sklearn.metrics import mean_squared_error\n",
    "from sklearn.linear_model import LinearRegression\n",
    "import numpy as np\n",
    "from scipy import stats as st\n",
    "import seaborn as sns"
   ]
  },
  {
   "cell_type": "markdown",
   "metadata": {},
   "source": [
    "Загрузим данные."
   ]
  },
  {
   "cell_type": "code",
   "execution_count": 2,
   "metadata": {},
   "outputs": [],
   "source": [
    "try:\n",
    "    df_1 = pd.read_csv('')\n",
    "    df_2 = pd.read_csv('')\n",
    "    df_3 = pd.read_csv('')\n",
    "except:\n",
    "    df_1 = pd.read_csv('')\n",
    "    df_2 = pd.read_csv('')\n",
    "    df_3 = pd.read_csv('')"
   ]
  },
  {
   "cell_type": "markdown",
   "metadata": {},
   "source": [
    "Для избежания повторения кода добавим данные по регионам в словарь. "
   ]
  },
  {
   "cell_type": "code",
   "execution_count": 3,
   "metadata": {},
   "outputs": [],
   "source": [
    "data = []\n",
    "data.append(df_1)\n",
    "data.append(df_2)\n",
    "data.append(df_3)"
   ]
  },
  {
   "cell_type": "markdown",
   "metadata": {},
   "source": [
    "### Ознакомление с данными"
   ]
  },
  {
   "cell_type": "markdown",
   "metadata": {},
   "source": [
    "Ознакомимся с данными. Рассмотрим первые строки полученных датасетов."
   ]
  },
  {
   "cell_type": "code",
   "execution_count": 4,
   "metadata": {
    "scrolled": false
   },
   "outputs": [
    {
     "data": {
      "text/html": [
       "<div>\n",
       "<style scoped>\n",
       "    .dataframe tbody tr th:only-of-type {\n",
       "        vertical-align: middle;\n",
       "    }\n",
       "\n",
       "    .dataframe tbody tr th {\n",
       "        vertical-align: top;\n",
       "    }\n",
       "\n",
       "    .dataframe thead th {\n",
       "        text-align: right;\n",
       "    }\n",
       "</style>\n",
       "<table border=\"1\" class=\"dataframe\">\n",
       "  <thead>\n",
       "    <tr style=\"text-align: right;\">\n",
       "      <th></th>\n",
       "      <th>id</th>\n",
       "      <th>f0</th>\n",
       "      <th>f1</th>\n",
       "      <th>f2</th>\n",
       "      <th>product</th>\n",
       "    </tr>\n",
       "  </thead>\n",
       "  <tbody>\n",
       "    <tr>\n",
       "      <th>0</th>\n",
       "      <td>txEyH</td>\n",
       "      <td>0.705745</td>\n",
       "      <td>-0.497823</td>\n",
       "      <td>1.221170</td>\n",
       "      <td>105.280062</td>\n",
       "    </tr>\n",
       "    <tr>\n",
       "      <th>1</th>\n",
       "      <td>2acmU</td>\n",
       "      <td>1.334711</td>\n",
       "      <td>-0.340164</td>\n",
       "      <td>4.365080</td>\n",
       "      <td>73.037750</td>\n",
       "    </tr>\n",
       "    <tr>\n",
       "      <th>2</th>\n",
       "      <td>409Wp</td>\n",
       "      <td>1.022732</td>\n",
       "      <td>0.151990</td>\n",
       "      <td>1.419926</td>\n",
       "      <td>85.265647</td>\n",
       "    </tr>\n",
       "    <tr>\n",
       "      <th>3</th>\n",
       "      <td>iJLyR</td>\n",
       "      <td>-0.032172</td>\n",
       "      <td>0.139033</td>\n",
       "      <td>2.978566</td>\n",
       "      <td>168.620776</td>\n",
       "    </tr>\n",
       "    <tr>\n",
       "      <th>4</th>\n",
       "      <td>Xdl7t</td>\n",
       "      <td>1.988431</td>\n",
       "      <td>0.155413</td>\n",
       "      <td>4.751769</td>\n",
       "      <td>154.036647</td>\n",
       "    </tr>\n",
       "  </tbody>\n",
       "</table>\n",
       "</div>"
      ],
      "text/plain": [
       "      id        f0        f1        f2     product\n",
       "0  txEyH  0.705745 -0.497823  1.221170  105.280062\n",
       "1  2acmU  1.334711 -0.340164  4.365080   73.037750\n",
       "2  409Wp  1.022732  0.151990  1.419926   85.265647\n",
       "3  iJLyR -0.032172  0.139033  2.978566  168.620776\n",
       "4  Xdl7t  1.988431  0.155413  4.751769  154.036647"
      ]
     },
     "metadata": {},
     "output_type": "display_data"
    },
    {
     "data": {
      "text/html": [
       "<div>\n",
       "<style scoped>\n",
       "    .dataframe tbody tr th:only-of-type {\n",
       "        vertical-align: middle;\n",
       "    }\n",
       "\n",
       "    .dataframe tbody tr th {\n",
       "        vertical-align: top;\n",
       "    }\n",
       "\n",
       "    .dataframe thead th {\n",
       "        text-align: right;\n",
       "    }\n",
       "</style>\n",
       "<table border=\"1\" class=\"dataframe\">\n",
       "  <thead>\n",
       "    <tr style=\"text-align: right;\">\n",
       "      <th></th>\n",
       "      <th>id</th>\n",
       "      <th>f0</th>\n",
       "      <th>f1</th>\n",
       "      <th>f2</th>\n",
       "      <th>product</th>\n",
       "    </tr>\n",
       "  </thead>\n",
       "  <tbody>\n",
       "    <tr>\n",
       "      <th>0</th>\n",
       "      <td>kBEdx</td>\n",
       "      <td>-15.001348</td>\n",
       "      <td>-8.276000</td>\n",
       "      <td>-0.005876</td>\n",
       "      <td>3.179103</td>\n",
       "    </tr>\n",
       "    <tr>\n",
       "      <th>1</th>\n",
       "      <td>62mP7</td>\n",
       "      <td>14.272088</td>\n",
       "      <td>-3.475083</td>\n",
       "      <td>0.999183</td>\n",
       "      <td>26.953261</td>\n",
       "    </tr>\n",
       "    <tr>\n",
       "      <th>2</th>\n",
       "      <td>vyE1P</td>\n",
       "      <td>6.263187</td>\n",
       "      <td>-5.948386</td>\n",
       "      <td>5.001160</td>\n",
       "      <td>134.766305</td>\n",
       "    </tr>\n",
       "    <tr>\n",
       "      <th>3</th>\n",
       "      <td>KcrkZ</td>\n",
       "      <td>-13.081196</td>\n",
       "      <td>-11.506057</td>\n",
       "      <td>4.999415</td>\n",
       "      <td>137.945408</td>\n",
       "    </tr>\n",
       "    <tr>\n",
       "      <th>4</th>\n",
       "      <td>AHL4O</td>\n",
       "      <td>12.702195</td>\n",
       "      <td>-8.147433</td>\n",
       "      <td>5.004363</td>\n",
       "      <td>134.766305</td>\n",
       "    </tr>\n",
       "  </tbody>\n",
       "</table>\n",
       "</div>"
      ],
      "text/plain": [
       "      id         f0         f1        f2     product\n",
       "0  kBEdx -15.001348  -8.276000 -0.005876    3.179103\n",
       "1  62mP7  14.272088  -3.475083  0.999183   26.953261\n",
       "2  vyE1P   6.263187  -5.948386  5.001160  134.766305\n",
       "3  KcrkZ -13.081196 -11.506057  4.999415  137.945408\n",
       "4  AHL4O  12.702195  -8.147433  5.004363  134.766305"
      ]
     },
     "metadata": {},
     "output_type": "display_data"
    },
    {
     "data": {
      "text/html": [
       "<div>\n",
       "<style scoped>\n",
       "    .dataframe tbody tr th:only-of-type {\n",
       "        vertical-align: middle;\n",
       "    }\n",
       "\n",
       "    .dataframe tbody tr th {\n",
       "        vertical-align: top;\n",
       "    }\n",
       "\n",
       "    .dataframe thead th {\n",
       "        text-align: right;\n",
       "    }\n",
       "</style>\n",
       "<table border=\"1\" class=\"dataframe\">\n",
       "  <thead>\n",
       "    <tr style=\"text-align: right;\">\n",
       "      <th></th>\n",
       "      <th>id</th>\n",
       "      <th>f0</th>\n",
       "      <th>f1</th>\n",
       "      <th>f2</th>\n",
       "      <th>product</th>\n",
       "    </tr>\n",
       "  </thead>\n",
       "  <tbody>\n",
       "    <tr>\n",
       "      <th>0</th>\n",
       "      <td>fwXo0</td>\n",
       "      <td>-1.146987</td>\n",
       "      <td>0.963328</td>\n",
       "      <td>-0.828965</td>\n",
       "      <td>27.758673</td>\n",
       "    </tr>\n",
       "    <tr>\n",
       "      <th>1</th>\n",
       "      <td>WJtFt</td>\n",
       "      <td>0.262778</td>\n",
       "      <td>0.269839</td>\n",
       "      <td>-2.530187</td>\n",
       "      <td>56.069697</td>\n",
       "    </tr>\n",
       "    <tr>\n",
       "      <th>2</th>\n",
       "      <td>ovLUW</td>\n",
       "      <td>0.194587</td>\n",
       "      <td>0.289035</td>\n",
       "      <td>-5.586433</td>\n",
       "      <td>62.871910</td>\n",
       "    </tr>\n",
       "    <tr>\n",
       "      <th>3</th>\n",
       "      <td>q6cA6</td>\n",
       "      <td>2.236060</td>\n",
       "      <td>-0.553760</td>\n",
       "      <td>0.930038</td>\n",
       "      <td>114.572842</td>\n",
       "    </tr>\n",
       "    <tr>\n",
       "      <th>4</th>\n",
       "      <td>WPMUX</td>\n",
       "      <td>-0.515993</td>\n",
       "      <td>1.716266</td>\n",
       "      <td>5.899011</td>\n",
       "      <td>149.600746</td>\n",
       "    </tr>\n",
       "  </tbody>\n",
       "</table>\n",
       "</div>"
      ],
      "text/plain": [
       "      id        f0        f1        f2     product\n",
       "0  fwXo0 -1.146987  0.963328 -0.828965   27.758673\n",
       "1  WJtFt  0.262778  0.269839 -2.530187   56.069697\n",
       "2  ovLUW  0.194587  0.289035 -5.586433   62.871910\n",
       "3  q6cA6  2.236060 -0.553760  0.930038  114.572842\n",
       "4  WPMUX -0.515993  1.716266  5.899011  149.600746"
      ]
     },
     "metadata": {},
     "output_type": "display_data"
    }
   ],
   "source": [
    "for i in range(3):\n",
    "    display(data[i].head())"
   ]
  },
  {
   "cell_type": "markdown",
   "metadata": {},
   "source": [
    "Данные сформировались корректно. Рассмотрим основную информацию о данных."
   ]
  },
  {
   "cell_type": "code",
   "execution_count": 5,
   "metadata": {
    "scrolled": false
   },
   "outputs": [
    {
     "name": "stdout",
     "output_type": "stream",
     "text": [
      "<class 'pandas.core.frame.DataFrame'>\n",
      "RangeIndex: 100000 entries, 0 to 99999\n",
      "Data columns (total 5 columns):\n",
      " #   Column   Non-Null Count   Dtype  \n",
      "---  ------   --------------   -----  \n",
      " 0   id       100000 non-null  object \n",
      " 1   f0       100000 non-null  float64\n",
      " 2   f1       100000 non-null  float64\n",
      " 3   f2       100000 non-null  float64\n",
      " 4   product  100000 non-null  float64\n",
      "dtypes: float64(4), object(1)\n",
      "memory usage: 3.8+ MB\n",
      "<class 'pandas.core.frame.DataFrame'>\n",
      "RangeIndex: 100000 entries, 0 to 99999\n",
      "Data columns (total 5 columns):\n",
      " #   Column   Non-Null Count   Dtype  \n",
      "---  ------   --------------   -----  \n",
      " 0   id       100000 non-null  object \n",
      " 1   f0       100000 non-null  float64\n",
      " 2   f1       100000 non-null  float64\n",
      " 3   f2       100000 non-null  float64\n",
      " 4   product  100000 non-null  float64\n",
      "dtypes: float64(4), object(1)\n",
      "memory usage: 3.8+ MB\n",
      "<class 'pandas.core.frame.DataFrame'>\n",
      "RangeIndex: 100000 entries, 0 to 99999\n",
      "Data columns (total 5 columns):\n",
      " #   Column   Non-Null Count   Dtype  \n",
      "---  ------   --------------   -----  \n",
      " 0   id       100000 non-null  object \n",
      " 1   f0       100000 non-null  float64\n",
      " 2   f1       100000 non-null  float64\n",
      " 3   f2       100000 non-null  float64\n",
      " 4   product  100000 non-null  float64\n",
      "dtypes: float64(4), object(1)\n",
      "memory usage: 3.8+ MB\n"
     ]
    }
   ],
   "source": [
    "for i in range(3):\n",
    "    data[i].info()"
   ]
  },
  {
   "cell_type": "markdown",
   "metadata": {},
   "source": [
    "Проблем с пропусками данных не наблюдается."
   ]
  },
  {
   "cell_type": "markdown",
   "metadata": {},
   "source": [
    "### Дубликаты"
   ]
  },
  {
   "cell_type": "markdown",
   "metadata": {},
   "source": [
    "Рассмотрим явные дубликаты."
   ]
  },
  {
   "cell_type": "code",
   "execution_count": 6,
   "metadata": {},
   "outputs": [
    {
     "data": {
      "text/plain": [
       "0"
      ]
     },
     "metadata": {},
     "output_type": "display_data"
    },
    {
     "data": {
      "text/plain": [
       "0"
      ]
     },
     "metadata": {},
     "output_type": "display_data"
    },
    {
     "data": {
      "text/plain": [
       "0"
      ]
     },
     "metadata": {},
     "output_type": "display_data"
    }
   ],
   "source": [
    "for i in range(3):\n",
    "    display(data[i].duplicated().sum())"
   ]
  },
  {
   "cell_type": "markdown",
   "metadata": {},
   "source": [
    "Явные полные дубликаты отсутствуют."
   ]
  },
  {
   "cell_type": "markdown",
   "metadata": {},
   "source": [
    "Рассмотрим явные дубликаты по столбцу `id`."
   ]
  },
  {
   "cell_type": "code",
   "execution_count": 7,
   "metadata": {},
   "outputs": [
    {
     "data": {
      "text/plain": [
       "10"
      ]
     },
     "metadata": {},
     "output_type": "display_data"
    },
    {
     "data": {
      "text/plain": [
       "(100000, 5)"
      ]
     },
     "metadata": {},
     "output_type": "display_data"
    },
    {
     "data": {
      "text/plain": [
       "4"
      ]
     },
     "metadata": {},
     "output_type": "display_data"
    },
    {
     "data": {
      "text/plain": [
       "(100000, 5)"
      ]
     },
     "metadata": {},
     "output_type": "display_data"
    },
    {
     "data": {
      "text/plain": [
       "4"
      ]
     },
     "metadata": {},
     "output_type": "display_data"
    },
    {
     "data": {
      "text/plain": [
       "(100000, 5)"
      ]
     },
     "metadata": {},
     "output_type": "display_data"
    }
   ],
   "source": [
    "for i in range(3):\n",
    "    display(data[i]['id'].duplicated().sum())\n",
    "    display(data[i].shape)"
   ]
  },
  {
   "cell_type": "markdown",
   "metadata": {},
   "source": [
    "В данных имеются дубликаты по столбцу `id`, их количество не сопоставимо мало по сравнению с общим количеством строк в данных. Удалим их."
   ]
  },
  {
   "cell_type": "code",
   "execution_count": 8,
   "metadata": {},
   "outputs": [
    {
     "data": {
      "text/plain": [
       "0"
      ]
     },
     "metadata": {},
     "output_type": "display_data"
    },
    {
     "data": {
      "text/plain": [
       "(99990, 5)"
      ]
     },
     "metadata": {},
     "output_type": "display_data"
    },
    {
     "data": {
      "text/plain": [
       "0"
      ]
     },
     "metadata": {},
     "output_type": "display_data"
    },
    {
     "data": {
      "text/plain": [
       "(99996, 5)"
      ]
     },
     "metadata": {},
     "output_type": "display_data"
    },
    {
     "data": {
      "text/plain": [
       "0"
      ]
     },
     "metadata": {},
     "output_type": "display_data"
    },
    {
     "data": {
      "text/plain": [
       "(99996, 5)"
      ]
     },
     "metadata": {},
     "output_type": "display_data"
    }
   ],
   "source": [
    "for i in range(3):\n",
    "    data[i] = data[i].drop_duplicates(subset='id')\n",
    "    display(data[i]['id'].duplicated().sum())\n",
    "    display(data[i].shape)"
   ]
  },
  {
   "cell_type": "markdown",
   "metadata": {},
   "source": [
    "Рассмотрим неявные дубликаты в столбце `id`."
   ]
  },
  {
   "cell_type": "code",
   "execution_count": 9,
   "metadata": {},
   "outputs": [
    {
     "name": "stderr",
     "output_type": "stream",
     "text": [
      "/tmp/ipykernel_457/769167322.py:2: SettingWithCopyWarning: \n",
      "A value is trying to be set on a copy of a slice from a DataFrame.\n",
      "Try using .loc[row_indexer,col_indexer] = value instead\n",
      "\n",
      "See the caveats in the documentation: https://pandas.pydata.org/pandas-docs/stable/user_guide/indexing.html#returning-a-view-versus-a-copy\n",
      "  data[i]['id'] = data[i]['id'].str.lower()\n"
     ]
    },
    {
     "data": {
      "text/plain": [
       "103"
      ]
     },
     "metadata": {},
     "output_type": "display_data"
    },
    {
     "data": {
      "text/plain": [
       "109"
      ]
     },
     "metadata": {},
     "output_type": "display_data"
    },
    {
     "data": {
      "text/plain": [
       "95"
      ]
     },
     "metadata": {},
     "output_type": "display_data"
    }
   ],
   "source": [
    "for i in range(3):\n",
    "    data[i]['id'] = data[i]['id'].str.lower()\n",
    "    display(data[i]['id'].duplicated().sum())"
   ]
  },
  {
   "cell_type": "markdown",
   "metadata": {},
   "source": [
    "Имеются неявные дубликаты в столбце `id`. Количество дубликатов так же очень мало. Удалим их."
   ]
  },
  {
   "cell_type": "code",
   "execution_count": 10,
   "metadata": {},
   "outputs": [
    {
     "data": {
      "text/plain": [
       "0"
      ]
     },
     "metadata": {},
     "output_type": "display_data"
    },
    {
     "data": {
      "text/plain": [
       "(99887, 5)"
      ]
     },
     "metadata": {},
     "output_type": "display_data"
    },
    {
     "data": {
      "text/plain": [
       "0"
      ]
     },
     "metadata": {},
     "output_type": "display_data"
    },
    {
     "data": {
      "text/plain": [
       "(99887, 5)"
      ]
     },
     "metadata": {},
     "output_type": "display_data"
    },
    {
     "data": {
      "text/plain": [
       "0"
      ]
     },
     "metadata": {},
     "output_type": "display_data"
    },
    {
     "data": {
      "text/plain": [
       "(99901, 5)"
      ]
     },
     "metadata": {},
     "output_type": "display_data"
    }
   ],
   "source": [
    "for i in range(3):\n",
    "    data[i] = data[i].drop_duplicates(subset='id')\n",
    "    display(data[i]['id'].str.lower().duplicated().sum())\n",
    "    display(data[i].shape)"
   ]
  },
  {
   "cell_type": "markdown",
   "metadata": {},
   "source": [
    "### Рассмотрим распределения признаков и целевой переменной для каждого региона."
   ]
  },
  {
   "cell_type": "markdown",
   "metadata": {},
   "source": [
    "#### Регион №1"
   ]
  },
  {
   "cell_type": "markdown",
   "metadata": {},
   "source": [
    "Рассмотрим распределение значений признака f0."
   ]
  },
  {
   "cell_type": "code",
   "execution_count": 11,
   "metadata": {},
   "outputs": [
    {
     "data": {
      "image/png": "[encoded data removed]",
      "text/plain": [
       "<Figure size 1080x360 with 1 Axes>"
      ]
     },
     "metadata": {
      "needs_background": "light"
     },
     "output_type": "display_data"
    }
   ],
   "source": [
    "data[0]['f0'].hist(bins=200, figsize=(15,5));"
   ]
  },
  {
   "cell_type": "markdown",
   "metadata": {},
   "source": [
    "Значения признака f0 распределены симметрично относительно оси 0.5. Выбросов и редких значений не наблюдается."
   ]
  },
  {
   "cell_type": "markdown",
   "metadata": {},
   "source": [
    "Рассмотрим распределение значений признака f1."
   ]
  },
  {
   "cell_type": "code",
   "execution_count": 12,
   "metadata": {},
   "outputs": [
    {
     "data": {
      "image/png": "[encoded data removed]",
      "text/plain": [
       "<Figure size 1080x360 with 1 Axes>"
      ]
     },
     "metadata": {
      "needs_background": "light"
     },
     "output_type": "display_data"
    }
   ],
   "source": [
    "data[0]['f1'].hist(bins=200, figsize=(15,5));"
   ]
  },
  {
   "cell_type": "markdown",
   "metadata": {},
   "source": [
    "Рассмотрим распределение значений признака f2."
   ]
  },
  {
   "cell_type": "code",
   "execution_count": 13,
   "metadata": {},
   "outputs": [
    {
     "data": {
      "image/png": "[encoded data removed]",
      "text/plain": [
       "<Figure size 1080x360 with 1 Axes>"
      ]
     },
     "metadata": {
      "needs_background": "light"
     },
     "output_type": "display_data"
    }
   ],
   "source": [
    "data[0]['f2'].hist(bins=200, figsize=(15,5));"
   ]
  },
  {
   "cell_type": "markdown",
   "metadata": {},
   "source": [
    "Значения признака f2 распределены нормально."
   ]
  },
  {
   "cell_type": "code",
   "execution_count": 14,
   "metadata": {},
   "outputs": [
    {
     "data": {
      "image/png": "[encoded data removed]",
      "text/plain": [
       "<Figure size 1080x360 with 1 Axes>"
      ]
     },
     "metadata": {
      "needs_background": "light"
     },
     "output_type": "display_data"
    }
   ],
   "source": [
    "data[0]['product'].hist(bins=200, figsize=(15,5));"
   ]
  },
  {
   "cell_type": "markdown",
   "metadata": {},
   "source": [
    "#### Регион №2"
   ]
  },
  {
   "cell_type": "code",
   "execution_count": 15,
   "metadata": {},
   "outputs": [
    {
     "data": {
      "image/png": "[encoded data removed]",
      "text/plain": [
       "<Figure size 1080x360 with 1 Axes>"
      ]
     },
     "metadata": {
      "needs_background": "light"
     },
     "output_type": "display_data"
    }
   ],
   "source": [
    "data[1]['f0'].hist(bins=200, figsize=(15,5));"
   ]
  },
  {
   "cell_type": "code",
   "execution_count": 16,
   "metadata": {},
   "outputs": [
    {
     "data": {
      "image/png": "[encoded data removed]",
      "text/plain": [
       "<Figure size 1080x360 with 1 Axes>"
      ]
     },
     "metadata": {
      "needs_background": "light"
     },
     "output_type": "display_data"
    }
   ],
   "source": [
    "data[1]['f1'].hist(bins=200, figsize=(15,5));"
   ]
  },
  {
   "cell_type": "code",
   "execution_count": 17,
   "metadata": {},
   "outputs": [
    {
     "data": {
      "image/png": "[encoded data removed]",
      "text/plain": [
       "<Figure size 1080x360 with 1 Axes>"
      ]
     },
     "metadata": {
      "needs_background": "light"
     },
     "output_type": "display_data"
    }
   ],
   "source": [
    "data[1]['f2'].hist(bins=200, figsize=(15,5));"
   ]
  },
  {
   "cell_type": "markdown",
   "metadata": {},
   "source": [
    "Значения признака f2 для региона №2 распределены дискретно."
   ]
  },
  {
   "cell_type": "code",
   "execution_count": 18,
   "metadata": {},
   "outputs": [
    {
     "data": {
      "image/png": "[encoded data removed]",
      "text/plain": [
       "<Figure size 1080x360 with 1 Axes>"
      ]
     },
     "metadata": {
      "needs_background": "light"
     },
     "output_type": "display_data"
    }
   ],
   "source": [
    "data[1]['product'].hist(bins=50, figsize=(15,5));"
   ]
  },
  {
   "cell_type": "markdown",
   "metadata": {},
   "source": [
    "Значения целевой переменной для региона №2 распределены дискретно."
   ]
  },
  {
   "cell_type": "markdown",
   "metadata": {},
   "source": [
    "#### Регион №3"
   ]
  },
  {
   "cell_type": "code",
   "execution_count": 19,
   "metadata": {},
   "outputs": [
    {
     "data": {
      "image/png": "[encoded data removed]",
      "text/plain": [
       "<Figure size 1080x360 with 1 Axes>"
      ]
     },
     "metadata": {
      "needs_background": "light"
     },
     "output_type": "display_data"
    }
   ],
   "source": [
    "data[2]['f0'].hist(bins=200, figsize=(15,5));"
   ]
  },
  {
   "cell_type": "code",
   "execution_count": 20,
   "metadata": {},
   "outputs": [
    {
     "data": {
      "image/png": "[encoded data removed]",
      "text/plain": [
       "<Figure size 1080x360 with 1 Axes>"
      ]
     },
     "metadata": {
      "needs_background": "light"
     },
     "output_type": "display_data"
    }
   ],
   "source": [
    "data[2]['f1'].hist(bins=200, figsize=(15,5));"
   ]
  },
  {
   "cell_type": "code",
   "execution_count": 21,
   "metadata": {},
   "outputs": [
    {
     "data": {
      "image/png": "[encoded data removed]",
      "text/plain": [
       "<Figure size 1080x360 with 1 Axes>"
      ]
     },
     "metadata": {
      "needs_background": "light"
     },
     "output_type": "display_data"
    }
   ],
   "source": [
    "data[2]['f2'].hist(bins=200, figsize=(15,5));"
   ]
  },
  {
   "cell_type": "code",
   "execution_count": 22,
   "metadata": {},
   "outputs": [
    {
     "data": {
      "image/png": "[encoded data removed]",
      "text/plain": [
       "<Figure size 1080x360 with 1 Axes>"
      ]
     },
     "metadata": {
      "needs_background": "light"
     },
     "output_type": "display_data"
    }
   ],
   "source": [
    "data[2]['product'].hist(bins=200, figsize=(15,5));"
   ]
  },
  {
   "cell_type": "markdown",
   "metadata": {},
   "source": [
    "#### Оценим мультиколлинеарность"
   ]
  },
  {
   "cell_type": "markdown",
   "metadata": {},
   "source": [
    "Для оценки мультиколлинеарности построим тепловую карту корреляции."
   ]
  },
  {
   "cell_type": "code",
   "execution_count": 23,
   "metadata": {},
   "outputs": [
    {
     "data": {
      "image/png": "[encoded data removed]",
      "text/plain": [
       "<Figure size 432x288 with 2 Axes>"
      ]
     },
     "metadata": {
      "needs_background": "light"
     },
     "output_type": "display_data"
    }
   ],
   "source": [
    "sns.heatmap(data[0].corr());"
   ]
  },
  {
   "cell_type": "markdown",
   "metadata": {},
   "source": [
    "Для региона №1 наблюдается слабая зависимость целевой переменной от признаков, наибольшая зависимость от признака f2. Так же наблюдаются зависимости признаков друг от друга. Минимальная зависимость у признака f1 от f0."
   ]
  },
  {
   "cell_type": "code",
   "execution_count": 24,
   "metadata": {},
   "outputs": [
    {
     "data": {
      "image/png": "[encoded data removed]",
      "text/plain": [
       "<Figure size 432x288 with 2 Axes>"
      ]
     },
     "metadata": {
      "needs_background": "light"
     },
     "output_type": "display_data"
    }
   ],
   "source": [
    "sns.heatmap(data[1].corr());"
   ]
  },
  {
   "attachments": {},
   "cell_type": "markdown",
   "metadata": {},
   "source": [
    "Для региона №2 наблюдается сильная зависимость целевой переменной от признака f2. Высокий коэффициент корреляции признака и целевой переменной в пользу точности предсказаний. Слабая корреляция присутствует и между признаками f1 и f0."
   ]
  },
  {
   "cell_type": "code",
   "execution_count": 35,
   "metadata": {},
   "outputs": [
    {
     "data": {
      "image/png": "[encoded data removed]",
      "text/plain": [
       "<Figure size 432x288 with 2 Axes>"
      ]
     },
     "metadata": {
      "needs_background": "light"
     },
     "output_type": "display_data"
    }
   ],
   "source": [
    "sns.heatmap(data[2].corr(), annot=True);"
   ]
  },
  {
   "cell_type": "markdown",
   "metadata": {},
   "source": [
    "Для региона №3 наблюдается корреляция значения целевой переменной с признаком f2."
   ]
  },
  {
   "cell_type": "markdown",
   "metadata": {},
   "source": [
    "Подготовим данные к моделированию."
   ]
  },
  {
   "cell_type": "markdown",
   "metadata": {},
   "source": [
    "Напишем функцию для разделения данных на обучающую и валидационную выборки в соотношении 75% к 25% соответственно."
   ]
  },
  {
   "cell_type": "code",
   "execution_count": 26,
   "metadata": {},
   "outputs": [],
   "source": [
    "def split(data):\n",
    "    df_train, df_valid = train_test_split(data, test_size=.25, random_state=765)\n",
    "    print('Доля обучающей выборки равна', round(df_train.shape[0] / data.shape[0] * 100, 2), '% от исходных')\n",
    "    print('Доля валидационной выборки равна', round(df_valid.shape[0] / data.shape[0] * 100, 2), '% от исходных')\n",
    "    return df_train, df_valid\n"
   ]
  },
  {
   "cell_type": "markdown",
   "metadata": {},
   "source": [
    "## Обучение и проверка модели"
   ]
  },
  {
   "cell_type": "markdown",
   "metadata": {},
   "source": [
    "Напишем функцию для выделения признаков, обучения модели, вывода RMSE модели и предсказанного среднего запаса сырья. Функция будет возвращать целевой признак и предсказания модели."
   ]
  },
  {
   "cell_type": "code",
   "execution_count": 27,
   "metadata": {},
   "outputs": [],
   "source": [
    "def modeling(data):\n",
    "    df_train, df_valid = split(data)\n",
    "    features_train = df_train.drop(['id', 'product'], axis=1)\n",
    "    target_train = df_train['product']\n",
    "    features_valid = df_valid.drop(['id', 'product'], axis=1)\n",
    "    target_valid = df_valid['product']\n",
    "\n",
    "    model = LinearRegression()\n",
    "    model.fit(features_train, target_train)\n",
    "    predictions_valid = pd.Series(model.predict(features_valid), index=target_valid.index)\n",
    "    result = mean_squared_error(target_valid, predictions_valid)**.5\n",
    "    product_mean = predictions_valid.mean()\n",
    "    print('RMSE модели для региона равна', result)\n",
    "    print('Средний запас предсказанного сырья равен', product_mean)\n",
    "    print('Средний реальный запас сырья равен', target_valid.mean())\n",
    "    return target_valid, predictions_valid"
   ]
  },
  {
   "cell_type": "markdown",
   "metadata": {},
   "source": [
    "В цикле применим полученную выше функцию к данным по регионам. Добавим целевой признак и результаты моделирования по каждому региону в словарь."
   ]
  },
  {
   "cell_type": "code",
   "execution_count": 28,
   "metadata": {
    "scrolled": false
   },
   "outputs": [
    {
     "name": "stdout",
     "output_type": "stream",
     "text": [
      "Регион 1\n",
      "Доля обучающей выборки равна 75.0 % от исходных\n",
      "Доля валидационной выборки равна 25.0 % от исходных\n",
      "RMSE модели для региона равна 37.55804805426385\n",
      "Средний запас предсказанного сырья равен 92.4157269749441\n",
      "Средний реальный запас сырья равен 92.38721610331712\n",
      "--------------------------------------\n",
      "Регион 2\n",
      "Доля обучающей выборки равна 75.0 % от исходных\n",
      "Доля валидационной выборки равна 25.0 % от исходных\n",
      "RMSE модели для региона равна 0.8921482247280595\n",
      "Средний запас предсказанного сырья равен 68.74973577556894\n",
      "Средний реальный запас сырья равен 68.74648542305144\n",
      "--------------------------------------\n",
      "Регион 3\n",
      "Доля обучающей выборки равна 75.0 % от исходных\n",
      "Доля валидационной выборки равна 25.0 % от исходных\n",
      "RMSE модели для региона равна 40.27291660376612\n",
      "Средний запас предсказанного сырья равен 95.17509926339136\n",
      "Средний реальный запас сырья равен 95.18715007522695\n",
      "--------------------------------------\n"
     ]
    }
   ],
   "source": [
    "models_target_predict = []\n",
    "for i in range(0, 3):\n",
    "    model_predict = []\n",
    "    print('Регион', i + 1)    \n",
    "    target_valid, predictions_valid = modeling(data[i])\n",
    "    model_predict.append(target_valid)\n",
    "    model_predict.append(predictions_valid)\n",
    "    models_target_predict.append(model_predict)\n",
    "    print('--------------------------------------')"
   ]
  },
  {
   "attachments": {},
   "cell_type": "markdown",
   "metadata": {},
   "source": [
    "Модели обучены. Минимальное значение RMSE у результатов работы модели над данными региона №2. Так как средний запас в каждом регионе ниже объема безубыточности, то качество предсказания имеет огромное значение - важно определить скважины с максимальным запасом. "
   ]
  },
  {
   "cell_type": "markdown",
   "metadata": {},
   "source": [
    "## Подготовка к расчёту прибыли"
   ]
  },
  {
   "cell_type": "markdown",
   "metadata": {},
   "source": [
    "Введем переменные необходимые для дальнейших расчетов."
   ]
  },
  {
   "cell_type": "code",
   "execution_count": 29,
   "metadata": {},
   "outputs": [],
   "source": [
    "BUDGET_ALL = 10e9\n",
    "FIELDS_COUNT = 200\n",
    "PRICE_PER_KBARR = 450e3"
   ]
  },
  {
   "cell_type": "markdown",
   "metadata": {},
   "source": [
    "Рассчитаем минимальное среднее значение запасов скважины для безубыточной разработки."
   ]
  },
  {
   "cell_type": "code",
   "execution_count": 30,
   "metadata": {},
   "outputs": [
    {
     "data": {
      "text/plain": [
       "111.11111111111111"
      ]
     },
     "execution_count": 30,
     "metadata": {},
     "output_type": "execute_result"
    }
   ],
   "source": [
    "loss_free_debt = BUDGET_ALL / FIELDS_COUNT / PRICE_PER_KBARR\n",
    "loss_free_debt"
   ]
  },
  {
   "cell_type": "markdown",
   "metadata": {},
   "source": [
    "Минимальное среднее значение для безубыточной разработки выше средних значений предсказанных моделью запасов по всем регионам."
   ]
  },
  {
   "cell_type": "markdown",
   "metadata": {},
   "source": [
    "## Расчёт прибыли и рисков "
   ]
  },
  {
   "cell_type": "markdown",
   "metadata": {},
   "source": [
    "Напишем функцию для сортировки, выбора максимальных предсказанных значений и подсчета прибыли от выбранных месторождений."
   ]
  },
  {
   "cell_type": "code",
   "execution_count": 31,
   "metadata": {},
   "outputs": [],
   "source": [
    "def profit(target, probabilities, count):\n",
    "    probs_sorted = probabilities.sort_values(ascending=False)\n",
    "    selected = target[probs_sorted.index][:count]\n",
    "    return PRICE_PER_KBARR * selected.sum() - BUDGET_ALL"
   ]
  },
  {
   "cell_type": "markdown",
   "metadata": {},
   "source": [
    "В цикле применим бутстреп к результатам моделирования по каждому региону. Выберем 500 месторождений, из них выберем 200 с максимальными значениями предсказаний. Для полученных месторождений посчитаем прибыль по целевому признаку. Добавим полученные данные по каждому региону в словарь."
   ]
  },
  {
   "cell_type": "code",
   "execution_count": 32,
   "metadata": {},
   "outputs": [],
   "source": [
    "state = np.random.RandomState(765)\n",
    "values_for_regions = []\n",
    "for n in range(3):\n",
    "    values = []\n",
    "    for i in range(1000):\n",
    "        target_subsample = models_target_predict[n][0].sample(n=500, replace=True, random_state=state)\n",
    "        probs_subsample = models_target_predict[n][1][target_subsample.index]\n",
    "        values.append(profit(target_subsample, probs_subsample, FIELDS_COUNT) / 1e6)\n",
    "    values = pd.Series(values)\n",
    "    values_for_regions.append(values)"
   ]
  },
  {
   "cell_type": "markdown",
   "metadata": {},
   "source": [
    "Выведем 95%й доверительный интервал и среднее значение прибыли по региону."
   ]
  },
  {
   "cell_type": "code",
   "execution_count": 33,
   "metadata": {},
   "outputs": [
    {
     "name": "stdout",
     "output_type": "stream",
     "text": [
      "Регион 1\n",
      "95%й доверительный интервал: -53.41488531377349 991.8611602811426 млн.\n",
      "Среднее значение по региону: 499.31734358017553 млн.\n",
      "--------------------------------------------------------\n",
      "Регион 2\n",
      "95%й доверительный интервал: 75.29846813486739 955.0529082043249 млн.\n",
      "Среднее значение по региону: 502.47547743775556 млн.\n",
      "--------------------------------------------------------\n",
      "Регион 3\n",
      "95%й доверительный интервал: -86.0814924086608 913.5793971280327 млн.\n",
      "Среднее значение по региону: 416.53195786600736 млн.\n",
      "--------------------------------------------------------\n"
     ]
    }
   ],
   "source": [
    "for i in range(3):\n",
    "    print('Регион', i + 1)\n",
    "    print(\n",
    "        '95%й доверительный интервал:', \n",
    "        values_for_regions[i].quantile(.025), values_for_regions[i].quantile(.975),\n",
    "        'млн.'\n",
    "    )\n",
    "    print('Среднее значение по региону:', values_for_regions[i].mean(), 'млн.')\n",
    "    print('--------------------------------------------------------')"
   ]
  },
  {
   "cell_type": "markdown",
   "metadata": {},
   "source": [
    "Оценим риск убытков. Выведем долю убыточных вариантов выбора месторождений среди общего количества вариантов."
   ]
  },
  {
   "cell_type": "code",
   "execution_count": 34,
   "metadata": {},
   "outputs": [
    {
     "name": "stdout",
     "output_type": "stream",
     "text": [
      "Доля убыточных вариантов для месторождения № 1 составляет 3.7 %\n",
      "Доля убыточных вариантов для месторождения № 2 составляет 0.9 %\n",
      "Доля убыточных вариантов для месторождения № 3 составляет 5.5 %\n"
     ]
    }
   ],
   "source": [
    "for i in range(3):\n",
    "    print('Доля убыточных вариантов для месторождения №', i + 1,\n",
    "          'составляет',\n",
    "          round(values_for_regions[i].loc[values_for_regions[i] < 0].count() / values_for_regions[i].count() * 100, 1), \n",
    "          '%'\n",
    "         )"
   ]
  },
  {
   "cell_type": "markdown",
   "metadata": {},
   "source": [
    "Для региона №2 вероятность выбрать убыточный вариант подбора 500 месторождений минимальна. Среднее значение прибыли для региона №2 так же больше чем удругих регионов. Для разработки можно порекомендовать регион №2."
   ]
  }
 ],
 "metadata": {
  "ExecuteTimeLog": [
   {
    "duration": 69,
    "start_time": "2023-01-10T14:41:23.947Z"
   },
   {
    "duration": 401,
    "start_time": "2023-01-10T14:41:29.103Z"
   },
   {
    "duration": 734,
    "start_time": "2023-01-10T14:41:29.506Z"
   },
   {
    "duration": 19,
    "start_time": "2023-01-10T14:41:30.243Z"
   },
   {
    "duration": 25,
    "start_time": "2023-01-10T14:42:33.501Z"
   },
   {
    "duration": 10,
    "start_time": "2023-01-10T14:43:02.696Z"
   },
   {
    "duration": 29,
    "start_time": "2023-01-10T14:44:45.113Z"
   },
   {
    "duration": 26,
    "start_time": "2023-01-10T14:45:11.442Z"
   },
   {
    "duration": 41,
    "start_time": "2023-01-10T14:45:24.009Z"
   },
   {
    "duration": 44,
    "start_time": "2023-01-10T14:45:40.897Z"
   },
   {
    "duration": 43,
    "start_time": "2023-01-10T14:45:50.978Z"
   },
   {
    "duration": 26,
    "start_time": "2023-01-10T14:46:22.337Z"
   },
   {
    "duration": 39,
    "start_time": "2023-01-10T14:46:59.208Z"
   },
   {
    "duration": 37,
    "start_time": "2023-01-10T14:47:26.497Z"
   },
   {
    "duration": 38,
    "start_time": "2023-01-10T14:47:36.604Z"
   },
   {
    "duration": 35,
    "start_time": "2023-01-10T14:47:44.840Z"
   },
   {
    "duration": 1266,
    "start_time": "2023-01-11T07:50:25.142Z"
   },
   {
    "duration": 110,
    "start_time": "2023-01-11T07:55:38.570Z"
   },
   {
    "duration": 1325,
    "start_time": "2023-01-11T07:55:47.112Z"
   },
   {
    "duration": 1958,
    "start_time": "2023-01-11T07:55:48.440Z"
   },
   {
    "duration": 41,
    "start_time": "2023-01-11T07:55:50.401Z"
   },
   {
    "duration": 43,
    "start_time": "2023-01-11T07:55:50.444Z"
   },
   {
    "duration": 215,
    "start_time": "2023-01-11T07:55:50.490Z"
   },
   {
    "duration": 39,
    "start_time": "2023-01-11T07:56:09.618Z"
   },
   {
    "duration": 24,
    "start_time": "2023-01-11T07:56:40.421Z"
   },
   {
    "duration": 1313,
    "start_time": "2023-01-11T07:56:57.624Z"
   },
   {
    "duration": 513,
    "start_time": "2023-01-11T07:56:58.941Z"
   },
   {
    "duration": 46,
    "start_time": "2023-01-11T07:56:59.456Z"
   },
   {
    "duration": 84,
    "start_time": "2023-01-11T07:56:59.505Z"
   },
   {
    "duration": 56,
    "start_time": "2023-01-11T07:56:59.592Z"
   },
   {
    "duration": 5,
    "start_time": "2023-01-11T07:58:08.489Z"
   },
   {
    "duration": 11,
    "start_time": "2023-01-11T07:59:09.528Z"
   },
   {
    "duration": 135,
    "start_time": "2023-01-11T07:59:33.769Z"
   },
   {
    "duration": 23,
    "start_time": "2023-01-11T08:00:10.299Z"
   },
   {
    "duration": 46,
    "start_time": "2023-01-11T08:00:36.099Z"
   },
   {
    "duration": 44,
    "start_time": "2023-01-11T08:00:53.329Z"
   },
   {
    "duration": 15,
    "start_time": "2023-01-11T08:01:05.920Z"
   },
   {
    "duration": 4,
    "start_time": "2023-01-11T08:17:33.476Z"
   },
   {
    "duration": 12,
    "start_time": "2023-01-11T08:19:08.866Z"
   },
   {
    "duration": 28,
    "start_time": "2023-01-11T08:19:54.137Z"
   },
   {
    "duration": 13,
    "start_time": "2023-01-11T08:20:06.975Z"
   },
   {
    "duration": 28,
    "start_time": "2023-01-11T08:20:15.191Z"
   },
   {
    "duration": 4,
    "start_time": "2023-01-11T08:20:44.209Z"
   },
   {
    "duration": 25,
    "start_time": "2023-01-11T08:20:49.647Z"
   },
   {
    "duration": 29,
    "start_time": "2023-01-11T08:21:50.071Z"
   },
   {
    "duration": 22,
    "start_time": "2023-01-11T08:21:54.847Z"
   },
   {
    "duration": 25,
    "start_time": "2023-01-11T08:22:13.752Z"
   },
   {
    "duration": 1120,
    "start_time": "2023-01-11T08:23:21.315Z"
   },
   {
    "duration": 411,
    "start_time": "2023-01-11T08:23:22.437Z"
   },
   {
    "duration": 32,
    "start_time": "2023-01-11T08:23:22.850Z"
   },
   {
    "duration": 54,
    "start_time": "2023-01-11T08:23:22.885Z"
   },
   {
    "duration": 4,
    "start_time": "2023-01-11T08:23:22.941Z"
   },
   {
    "duration": 27,
    "start_time": "2023-01-11T08:23:22.947Z"
   },
   {
    "duration": 41,
    "start_time": "2023-01-11T08:23:22.976Z"
   },
   {
    "duration": 53,
    "start_time": "2023-01-11T08:23:23.019Z"
   },
   {
    "duration": 4,
    "start_time": "2023-01-11T08:29:08.765Z"
   },
   {
    "duration": 72,
    "start_time": "2023-01-11T08:29:40.570Z"
   },
   {
    "duration": 192,
    "start_time": "2023-01-11T08:30:29.065Z"
   },
   {
    "duration": 344,
    "start_time": "2023-01-11T08:30:42.210Z"
   },
   {
    "duration": 408,
    "start_time": "2023-01-11T08:30:55.351Z"
   },
   {
    "duration": 380,
    "start_time": "2023-01-11T08:31:11.079Z"
   },
   {
    "duration": 423,
    "start_time": "2023-01-11T08:34:05.320Z"
   },
   {
    "duration": 9,
    "start_time": "2023-01-11T08:34:36.838Z"
   },
   {
    "duration": 6,
    "start_time": "2023-01-11T08:34:45.366Z"
   },
   {
    "duration": 6,
    "start_time": "2023-01-11T08:35:01.438Z"
   },
   {
    "duration": 4,
    "start_time": "2023-01-11T08:35:14.198Z"
   },
   {
    "duration": 96,
    "start_time": "2023-01-11T08:48:45.293Z"
   },
   {
    "duration": 1114,
    "start_time": "2023-01-11T08:49:00.159Z"
   },
   {
    "duration": 405,
    "start_time": "2023-01-11T08:49:01.275Z"
   },
   {
    "duration": 33,
    "start_time": "2023-01-11T08:49:01.682Z"
   },
   {
    "duration": 92,
    "start_time": "2023-01-11T08:49:01.716Z"
   },
   {
    "duration": 4,
    "start_time": "2023-01-11T08:49:01.810Z"
   },
   {
    "duration": 15,
    "start_time": "2023-01-11T08:49:01.816Z"
   },
   {
    "duration": 13,
    "start_time": "2023-01-11T08:49:01.833Z"
   },
   {
    "duration": 75,
    "start_time": "2023-01-11T08:49:01.847Z"
   },
   {
    "duration": 0,
    "start_time": "2023-01-11T08:49:01.924Z"
   },
   {
    "duration": 0,
    "start_time": "2023-01-11T08:49:01.926Z"
   },
   {
    "duration": 4,
    "start_time": "2023-01-11T08:49:42.196Z"
   },
   {
    "duration": 484,
    "start_time": "2023-01-11T08:49:44.654Z"
   },
   {
    "duration": 6,
    "start_time": "2023-01-11T08:50:37.612Z"
   },
   {
    "duration": 6,
    "start_time": "2023-01-11T08:50:40.836Z"
   },
   {
    "duration": 5,
    "start_time": "2023-01-11T08:51:23.108Z"
   },
   {
    "duration": 411,
    "start_time": "2023-01-11T08:51:25.549Z"
   },
   {
    "duration": 6,
    "start_time": "2023-01-11T08:51:28.628Z"
   },
   {
    "duration": 6,
    "start_time": "2023-01-11T08:51:31.132Z"
   },
   {
    "duration": 601,
    "start_time": "2023-01-11T08:52:04.943Z"
   },
   {
    "duration": 148,
    "start_time": "2023-01-11T08:52:12.236Z"
   },
   {
    "duration": 7,
    "start_time": "2023-01-11T08:53:01.388Z"
   },
   {
    "duration": 5,
    "start_time": "2023-01-11T08:53:04.813Z"
   },
   {
    "duration": 73,
    "start_time": "2023-01-11T08:53:23.308Z"
   },
   {
    "duration": 464,
    "start_time": "2023-01-11T08:53:32.580Z"
   },
   {
    "duration": 5,
    "start_time": "2023-01-11T08:55:26.026Z"
   },
   {
    "duration": 384,
    "start_time": "2023-01-11T08:55:27.971Z"
   },
   {
    "duration": 412,
    "start_time": "2023-01-11T08:56:14.645Z"
   },
   {
    "duration": 463,
    "start_time": "2023-01-11T08:56:25.100Z"
   },
   {
    "duration": 5,
    "start_time": "2023-01-11T09:00:54.309Z"
   },
   {
    "duration": 400,
    "start_time": "2023-01-11T09:00:56.563Z"
   },
   {
    "duration": 457,
    "start_time": "2023-01-11T09:02:00.501Z"
   },
   {
    "duration": 4,
    "start_time": "2023-01-11T09:19:12.858Z"
   },
   {
    "duration": 4,
    "start_time": "2023-01-11T09:22:45.747Z"
   },
   {
    "duration": 8,
    "start_time": "2023-01-11T09:39:20.985Z"
   },
   {
    "duration": 10,
    "start_time": "2023-01-11T09:40:16.616Z"
   },
   {
    "duration": 9,
    "start_time": "2023-01-11T09:40:35.969Z"
   },
   {
    "duration": 8,
    "start_time": "2023-01-11T09:40:40.786Z"
   },
   {
    "duration": 10,
    "start_time": "2023-01-11T09:41:00.672Z"
   },
   {
    "duration": 9,
    "start_time": "2023-01-11T09:41:16.520Z"
   },
   {
    "duration": 9,
    "start_time": "2023-01-11T09:41:23.208Z"
   },
   {
    "duration": 8,
    "start_time": "2023-01-11T09:41:34.473Z"
   },
   {
    "duration": 1297,
    "start_time": "2023-01-11T09:41:51.904Z"
   },
   {
    "duration": 1167,
    "start_time": "2023-01-11T09:41:56.820Z"
   },
   {
    "duration": 9,
    "start_time": "2023-01-11T09:42:07.873Z"
   },
   {
    "duration": 8,
    "start_time": "2023-01-11T09:42:37.354Z"
   },
   {
    "duration": 7,
    "start_time": "2023-01-11T09:43:02.945Z"
   },
   {
    "duration": 6,
    "start_time": "2023-01-11T09:44:02.353Z"
   },
   {
    "duration": 9,
    "start_time": "2023-01-11T09:44:07.608Z"
   },
   {
    "duration": 28,
    "start_time": "2023-01-11T09:44:45.020Z"
   },
   {
    "duration": 10,
    "start_time": "2023-01-11T09:44:54.258Z"
   },
   {
    "duration": 5,
    "start_time": "2023-01-11T09:45:17.891Z"
   },
   {
    "duration": 19,
    "start_time": "2023-01-11T09:46:18.249Z"
   },
   {
    "duration": 5,
    "start_time": "2023-01-11T09:46:23.001Z"
   },
   {
    "duration": 8,
    "start_time": "2023-01-11T09:46:25.016Z"
   },
   {
    "duration": 9,
    "start_time": "2023-01-11T09:46:37.295Z"
   },
   {
    "duration": 9,
    "start_time": "2023-01-11T09:47:01.608Z"
   },
   {
    "duration": 9,
    "start_time": "2023-01-11T09:47:39.577Z"
   },
   {
    "duration": 3,
    "start_time": "2023-01-11T09:50:51.337Z"
   },
   {
    "duration": 9,
    "start_time": "2023-01-11T09:51:13.902Z"
   },
   {
    "duration": 18,
    "start_time": "2023-01-11T09:51:36.737Z"
   },
   {
    "duration": 3,
    "start_time": "2023-01-11T10:00:09.714Z"
   },
   {
    "duration": 5,
    "start_time": "2023-01-11T10:00:59.711Z"
   },
   {
    "duration": 38,
    "start_time": "2023-01-11T10:01:04.850Z"
   },
   {
    "duration": 5,
    "start_time": "2023-01-11T10:02:46.183Z"
   },
   {
    "duration": 404,
    "start_time": "2023-01-11T10:02:48.959Z"
   },
   {
    "duration": 4,
    "start_time": "2023-01-11T11:45:06.560Z"
   },
   {
    "duration": 12,
    "start_time": "2023-01-11T11:48:04.062Z"
   },
   {
    "duration": 1134,
    "start_time": "2023-01-11T11:55:53.136Z"
   },
   {
    "duration": 395,
    "start_time": "2023-01-11T11:55:54.272Z"
   },
   {
    "duration": 30,
    "start_time": "2023-01-11T11:55:54.669Z"
   },
   {
    "duration": 59,
    "start_time": "2023-01-11T11:55:54.701Z"
   },
   {
    "duration": 4,
    "start_time": "2023-01-11T11:55:54.762Z"
   },
   {
    "duration": 5,
    "start_time": "2023-01-11T11:55:54.768Z"
   },
   {
    "duration": 7,
    "start_time": "2023-01-11T11:55:54.775Z"
   },
   {
    "duration": 473,
    "start_time": "2023-01-11T11:55:54.783Z"
   },
   {
    "duration": 97,
    "start_time": "2023-01-11T11:55:55.341Z"
   },
   {
    "duration": 14,
    "start_time": "2023-01-11T11:55:55.440Z"
   },
   {
    "duration": 13,
    "start_time": "2023-01-11T11:55:55.456Z"
   },
   {
    "duration": 19,
    "start_time": "2023-01-11T11:55:55.471Z"
   },
   {
    "duration": 26,
    "start_time": "2023-01-11T11:55:55.491Z"
   },
   {
    "duration": 104,
    "start_time": "2023-01-11T11:55:55.520Z"
   },
   {
    "duration": 1449,
    "start_time": "2023-01-11T11:58:22.981Z"
   },
   {
    "duration": 4,
    "start_time": "2023-01-11T11:59:54.351Z"
   },
   {
    "duration": 3,
    "start_time": "2023-01-11T12:24:48.699Z"
   },
   {
    "duration": 6,
    "start_time": "2023-01-11T12:28:14.914Z"
   },
   {
    "duration": 7,
    "start_time": "2023-01-11T12:28:23.090Z"
   },
   {
    "duration": 5,
    "start_time": "2023-01-11T12:30:07.122Z"
   },
   {
    "duration": 7,
    "start_time": "2023-01-11T12:33:39.227Z"
   },
   {
    "duration": 2132,
    "start_time": "2023-01-11T12:36:52.588Z"
   },
   {
    "duration": 5567,
    "start_time": "2023-01-11T12:39:00.155Z"
   },
   {
    "duration": 4977,
    "start_time": "2023-01-11T12:39:22.026Z"
   },
   {
    "duration": 4812,
    "start_time": "2023-01-11T12:39:43.055Z"
   },
   {
    "duration": 4828,
    "start_time": "2023-01-11T12:40:03.352Z"
   },
   {
    "duration": 5001,
    "start_time": "2023-01-11T12:40:55.564Z"
   },
   {
    "duration": 4816,
    "start_time": "2023-01-11T12:41:22.053Z"
   },
   {
    "duration": 4905,
    "start_time": "2023-01-11T12:42:12.898Z"
   },
   {
    "duration": 91,
    "start_time": "2023-01-11T12:42:56.336Z"
   },
   {
    "duration": 4844,
    "start_time": "2023-01-11T12:43:31.255Z"
   },
   {
    "duration": 4824,
    "start_time": "2023-01-11T12:44:48.385Z"
   },
   {
    "duration": 4671,
    "start_time": "2023-01-11T12:45:39.825Z"
   },
   {
    "duration": 4543,
    "start_time": "2023-01-11T12:45:59.520Z"
   },
   {
    "duration": 4777,
    "start_time": "2023-01-11T12:46:22.785Z"
   },
   {
    "duration": 8,
    "start_time": "2023-01-11T12:46:33.855Z"
   },
   {
    "duration": 6,
    "start_time": "2023-01-11T12:46:42.394Z"
   },
   {
    "duration": 4541,
    "start_time": "2023-01-11T12:48:07.921Z"
   },
   {
    "duration": 10,
    "start_time": "2023-01-11T12:48:46.762Z"
   },
   {
    "duration": 4705,
    "start_time": "2023-01-11T12:49:39.624Z"
   },
   {
    "duration": 8,
    "start_time": "2023-01-11T12:49:45.176Z"
   },
   {
    "duration": 452,
    "start_time": "2023-01-11T12:54:15.058Z"
   },
   {
    "duration": 6,
    "start_time": "2023-01-11T12:54:51.161Z"
   },
   {
    "duration": 8,
    "start_time": "2023-01-11T12:58:04.809Z"
   },
   {
    "duration": 7,
    "start_time": "2023-01-11T12:58:30.865Z"
   },
   {
    "duration": 6,
    "start_time": "2023-01-11T12:58:35.633Z"
   },
   {
    "duration": 5330,
    "start_time": "2023-01-11T12:59:18.369Z"
   },
   {
    "duration": 6,
    "start_time": "2023-01-11T12:59:25.642Z"
   },
   {
    "duration": 8,
    "start_time": "2023-01-11T12:59:34.617Z"
   },
   {
    "duration": 11,
    "start_time": "2023-01-11T13:01:02.065Z"
   },
   {
    "duration": 14,
    "start_time": "2023-01-11T13:01:41.688Z"
   },
   {
    "duration": 11,
    "start_time": "2023-01-11T13:02:09.418Z"
   },
   {
    "duration": 15,
    "start_time": "2023-01-11T13:02:15.055Z"
   },
   {
    "duration": 1195,
    "start_time": "2023-01-11T13:03:18.067Z"
   },
   {
    "duration": 402,
    "start_time": "2023-01-11T13:03:19.264Z"
   },
   {
    "duration": 41,
    "start_time": "2023-01-11T13:03:19.669Z"
   },
   {
    "duration": 58,
    "start_time": "2023-01-11T13:03:19.714Z"
   },
   {
    "duration": 5,
    "start_time": "2023-01-11T13:03:19.774Z"
   },
   {
    "duration": 12,
    "start_time": "2023-01-11T13:03:19.781Z"
   },
   {
    "duration": 10,
    "start_time": "2023-01-11T13:03:19.795Z"
   },
   {
    "duration": 438,
    "start_time": "2023-01-11T13:03:19.807Z"
   },
   {
    "duration": 92,
    "start_time": "2023-01-11T13:03:20.247Z"
   },
   {
    "duration": 7,
    "start_time": "2023-01-11T13:03:20.340Z"
   },
   {
    "duration": 12,
    "start_time": "2023-01-11T13:03:20.348Z"
   },
   {
    "duration": 9,
    "start_time": "2023-01-11T13:03:20.362Z"
   },
   {
    "duration": 4365,
    "start_time": "2023-01-11T13:03:20.372Z"
   },
   {
    "duration": 10,
    "start_time": "2023-01-11T13:03:24.740Z"
   },
   {
    "duration": 6,
    "start_time": "2023-01-11T13:03:24.752Z"
   },
   {
    "duration": 10,
    "start_time": "2023-01-11T13:04:02.265Z"
   },
   {
    "duration": 18,
    "start_time": "2023-01-11T13:09:37.817Z"
   },
   {
    "duration": 4,
    "start_time": "2023-01-11T13:11:14.018Z"
   },
   {
    "duration": 4,
    "start_time": "2023-01-11T13:12:58.155Z"
   },
   {
    "duration": 4275,
    "start_time": "2023-01-11T13:17:11.399Z"
   },
   {
    "duration": 15,
    "start_time": "2023-01-11T13:17:15.676Z"
   },
   {
    "duration": 18,
    "start_time": "2023-01-11T13:21:42.903Z"
   },
   {
    "duration": 120,
    "start_time": "2023-01-11T13:21:49.898Z"
   },
   {
    "duration": 24,
    "start_time": "2023-01-11T13:21:59.898Z"
   },
   {
    "duration": 20,
    "start_time": "2023-01-11T13:22:06.751Z"
   },
   {
    "duration": 28,
    "start_time": "2023-01-11T13:22:25.726Z"
   },
   {
    "duration": 34,
    "start_time": "2023-01-11T13:22:37.631Z"
   },
   {
    "duration": 12,
    "start_time": "2023-01-11T13:23:32.199Z"
   },
   {
    "duration": 171,
    "start_time": "2023-01-11T13:24:44.135Z"
   },
   {
    "duration": 267,
    "start_time": "2023-01-11T13:25:12.140Z"
   },
   {
    "duration": 149,
    "start_time": "2023-01-11T13:25:29.601Z"
   },
   {
    "duration": 1228,
    "start_time": "2023-01-11T13:28:08.555Z"
   },
   {
    "duration": 442,
    "start_time": "2023-01-11T13:28:09.786Z"
   },
   {
    "duration": 31,
    "start_time": "2023-01-11T13:28:10.230Z"
   },
   {
    "duration": 37,
    "start_time": "2023-01-11T13:28:10.263Z"
   },
   {
    "duration": 4,
    "start_time": "2023-01-11T13:28:10.301Z"
   },
   {
    "duration": 32,
    "start_time": "2023-01-11T13:28:10.307Z"
   },
   {
    "duration": 18,
    "start_time": "2023-01-11T13:28:10.342Z"
   },
   {
    "duration": 477,
    "start_time": "2023-01-11T13:28:10.362Z"
   },
   {
    "duration": 9,
    "start_time": "2023-01-11T13:28:10.841Z"
   },
   {
    "duration": 102,
    "start_time": "2023-01-11T13:28:10.853Z"
   },
   {
    "duration": 16,
    "start_time": "2023-01-11T13:28:10.957Z"
   },
   {
    "duration": 4345,
    "start_time": "2023-01-11T13:28:10.975Z"
   },
   {
    "duration": 22,
    "start_time": "2023-01-11T13:28:15.322Z"
   },
   {
    "duration": 4,
    "start_time": "2023-01-11T13:30:42.513Z"
   },
   {
    "duration": 4297,
    "start_time": "2023-01-11T13:30:51.198Z"
   },
   {
    "duration": 16,
    "start_time": "2023-01-11T13:30:58.151Z"
   },
   {
    "duration": 4066,
    "start_time": "2023-01-11T13:31:30.734Z"
   },
   {
    "duration": 1257,
    "start_time": "2023-01-11T13:31:38.227Z"
   },
   {
    "duration": 410,
    "start_time": "2023-01-11T13:31:39.486Z"
   },
   {
    "duration": 41,
    "start_time": "2023-01-11T13:31:39.898Z"
   },
   {
    "duration": 41,
    "start_time": "2023-01-11T13:31:39.941Z"
   },
   {
    "duration": 4,
    "start_time": "2023-01-11T13:31:39.984Z"
   },
   {
    "duration": 14,
    "start_time": "2023-01-11T13:31:39.990Z"
   },
   {
    "duration": 18,
    "start_time": "2023-01-11T13:31:40.006Z"
   },
   {
    "duration": 426,
    "start_time": "2023-01-11T13:31:40.026Z"
   },
   {
    "duration": 84,
    "start_time": "2023-01-11T13:31:40.456Z"
   },
   {
    "duration": 98,
    "start_time": "2023-01-11T13:31:40.543Z"
   },
   {
    "duration": 8,
    "start_time": "2023-01-11T13:31:40.642Z"
   },
   {
    "duration": 4049,
    "start_time": "2023-01-11T13:31:40.651Z"
   },
   {
    "duration": 12,
    "start_time": "2023-01-11T13:31:44.702Z"
   },
   {
    "duration": 3,
    "start_time": "2023-01-11T13:32:06.463Z"
   },
   {
    "duration": 4274,
    "start_time": "2023-01-11T13:32:07.942Z"
   },
   {
    "duration": 12,
    "start_time": "2023-01-11T13:32:12.983Z"
   },
   {
    "duration": 4318,
    "start_time": "2023-01-11T13:32:25.665Z"
   },
   {
    "duration": 12,
    "start_time": "2023-01-11T13:32:29.985Z"
   },
   {
    "duration": 5,
    "start_time": "2023-01-11T13:33:14.247Z"
   },
   {
    "duration": 431,
    "start_time": "2023-01-11T13:33:50.879Z"
   },
   {
    "duration": 153,
    "start_time": "2023-01-11T13:34:09.135Z"
   },
   {
    "duration": 216,
    "start_time": "2023-01-11T13:34:18.914Z"
   },
   {
    "duration": 149,
    "start_time": "2023-01-11T13:34:30.623Z"
   },
   {
    "duration": 4816,
    "start_time": "2023-01-11T13:35:12.304Z"
   },
   {
    "duration": 163,
    "start_time": "2023-01-11T13:35:17.122Z"
   },
   {
    "duration": 155,
    "start_time": "2023-01-11T13:35:24.806Z"
   },
   {
    "duration": 232,
    "start_time": "2023-01-11T13:35:29.455Z"
   },
   {
    "duration": 12,
    "start_time": "2023-01-11T13:35:36.791Z"
   },
   {
    "duration": 4523,
    "start_time": "2023-01-11T13:35:47.991Z"
   },
   {
    "duration": 164,
    "start_time": "2023-01-11T13:35:52.517Z"
   },
   {
    "duration": 171,
    "start_time": "2023-01-11T13:35:57.383Z"
   },
   {
    "duration": 165,
    "start_time": "2023-01-11T13:36:04.156Z"
   },
   {
    "duration": 510,
    "start_time": "2023-01-11T13:42:26.544Z"
   },
   {
    "duration": 6,
    "start_time": "2023-01-11T13:43:39.278Z"
   },
   {
    "duration": 4482,
    "start_time": "2023-01-11T13:44:22.583Z"
   },
   {
    "duration": 178,
    "start_time": "2023-01-11T13:44:31.190Z"
   },
   {
    "duration": 16,
    "start_time": "2023-01-11T13:45:06.399Z"
   },
   {
    "duration": 16,
    "start_time": "2023-01-11T13:45:13.127Z"
   },
   {
    "duration": 17,
    "start_time": "2023-01-11T13:46:20.239Z"
   },
   {
    "duration": 21,
    "start_time": "2023-01-11T13:46:39.431Z"
   },
   {
    "duration": 16,
    "start_time": "2023-01-11T13:49:39.094Z"
   },
   {
    "duration": 3,
    "start_time": "2023-01-11T14:08:22.415Z"
   },
   {
    "duration": 4775,
    "start_time": "2023-01-11T14:08:23.531Z"
   },
   {
    "duration": 11,
    "start_time": "2023-01-11T14:08:28.308Z"
   },
   {
    "duration": 23,
    "start_time": "2023-01-11T14:14:29.677Z"
   },
   {
    "duration": 5,
    "start_time": "2023-01-11T14:14:47.090Z"
   },
   {
    "duration": 8,
    "start_time": "2023-01-11T14:14:57.987Z"
   },
   {
    "duration": 7,
    "start_time": "2023-01-11T14:15:05.826Z"
   },
   {
    "duration": 11,
    "start_time": "2023-01-11T14:15:31.957Z"
   },
   {
    "duration": 7,
    "start_time": "2023-01-11T14:17:01.883Z"
   },
   {
    "duration": 18,
    "start_time": "2023-01-11T14:20:03.034Z"
   },
   {
    "duration": 8,
    "start_time": "2023-01-11T14:20:10.814Z"
   },
   {
    "duration": 10,
    "start_time": "2023-01-11T14:21:54.010Z"
   },
   {
    "duration": 9,
    "start_time": "2023-01-11T14:22:01.397Z"
   },
   {
    "duration": 8,
    "start_time": "2023-01-11T14:22:06.778Z"
   },
   {
    "duration": 9,
    "start_time": "2023-01-11T14:22:15.063Z"
   },
   {
    "duration": 10,
    "start_time": "2023-01-11T14:22:23.698Z"
   },
   {
    "duration": 8,
    "start_time": "2023-01-11T14:23:11.595Z"
   },
   {
    "duration": 162,
    "start_time": "2023-01-11T14:23:54.826Z"
   },
   {
    "duration": 9,
    "start_time": "2023-01-11T14:24:02.098Z"
   },
   {
    "duration": 25,
    "start_time": "2023-01-11T14:24:11.234Z"
   },
   {
    "duration": 1307,
    "start_time": "2023-01-11T16:30:47.462Z"
   },
   {
    "duration": 1396,
    "start_time": "2023-01-11T16:30:48.771Z"
   },
   {
    "duration": 34,
    "start_time": "2023-01-11T16:30:50.168Z"
   },
   {
    "duration": 72,
    "start_time": "2023-01-11T16:30:50.206Z"
   },
   {
    "duration": 5,
    "start_time": "2023-01-11T16:30:50.281Z"
   },
   {
    "duration": 12,
    "start_time": "2023-01-11T16:30:50.288Z"
   },
   {
    "duration": 541,
    "start_time": "2023-01-11T16:30:50.302Z"
   },
   {
    "duration": 14,
    "start_time": "2023-01-11T16:30:50.848Z"
   },
   {
    "duration": 238,
    "start_time": "2023-01-11T16:30:50.868Z"
   },
   {
    "duration": 0,
    "start_time": "2023-01-11T16:30:51.108Z"
   },
   {
    "duration": 0,
    "start_time": "2023-01-11T16:30:51.110Z"
   },
   {
    "duration": 0,
    "start_time": "2023-01-11T16:30:51.111Z"
   },
   {
    "duration": 0,
    "start_time": "2023-01-11T16:30:51.112Z"
   },
   {
    "duration": 1238,
    "start_time": "2023-01-11T16:31:22.280Z"
   },
   {
    "duration": 630,
    "start_time": "2023-01-11T16:31:23.520Z"
   },
   {
    "duration": 44,
    "start_time": "2023-01-11T16:31:24.152Z"
   },
   {
    "duration": 58,
    "start_time": "2023-01-11T16:31:24.198Z"
   },
   {
    "duration": 5,
    "start_time": "2023-01-11T16:31:24.259Z"
   },
   {
    "duration": 6,
    "start_time": "2023-01-11T16:31:24.266Z"
   },
   {
    "duration": 400,
    "start_time": "2023-01-11T16:31:24.274Z"
   },
   {
    "duration": 66,
    "start_time": "2023-01-11T16:31:24.676Z"
   },
   {
    "duration": 105,
    "start_time": "2023-01-11T16:31:24.744Z"
   },
   {
    "duration": 4463,
    "start_time": "2023-01-11T16:31:24.852Z"
   },
   {
    "duration": 25,
    "start_time": "2023-01-11T16:31:29.317Z"
   },
   {
    "duration": 11,
    "start_time": "2023-01-11T16:31:29.344Z"
   },
   {
    "duration": 4,
    "start_time": "2023-01-11T16:40:20.503Z"
   },
   {
    "duration": 3,
    "start_time": "2023-01-11T16:45:00.486Z"
   },
   {
    "duration": 5,
    "start_time": "2023-01-11T16:45:02.743Z"
   },
   {
    "duration": 92,
    "start_time": "2023-01-11T16:46:33.559Z"
   },
   {
    "duration": 1142,
    "start_time": "2023-01-11T16:47:41.294Z"
   },
   {
    "duration": 438,
    "start_time": "2023-01-11T16:47:42.439Z"
   },
   {
    "duration": 45,
    "start_time": "2023-01-11T16:47:42.879Z"
   },
   {
    "duration": 90,
    "start_time": "2023-01-11T16:47:42.926Z"
   },
   {
    "duration": 6,
    "start_time": "2023-01-11T16:47:43.018Z"
   },
   {
    "duration": 51,
    "start_time": "2023-01-11T16:47:43.026Z"
   },
   {
    "duration": 559,
    "start_time": "2023-01-11T16:47:43.079Z"
   },
   {
    "duration": 5,
    "start_time": "2023-01-11T16:47:43.641Z"
   },
   {
    "duration": 98,
    "start_time": "2023-01-11T16:47:43.649Z"
   },
   {
    "duration": 15,
    "start_time": "2023-01-11T16:47:43.750Z"
   },
   {
    "duration": 4471,
    "start_time": "2023-01-11T16:47:43.767Z"
   },
   {
    "duration": 12,
    "start_time": "2023-01-11T16:47:48.242Z"
   },
   {
    "duration": 20,
    "start_time": "2023-01-11T16:47:48.256Z"
   },
   {
    "duration": 14,
    "start_time": "2023-01-11T16:55:23.301Z"
   },
   {
    "duration": 12,
    "start_time": "2023-01-11T17:14:57.770Z"
   },
   {
    "duration": 1069,
    "start_time": "2023-01-11T17:15:54.265Z"
   },
   {
    "duration": 397,
    "start_time": "2023-01-11T17:15:55.336Z"
   },
   {
    "duration": 30,
    "start_time": "2023-01-11T17:15:55.738Z"
   },
   {
    "duration": 44,
    "start_time": "2023-01-11T17:15:55.770Z"
   },
   {
    "duration": 26,
    "start_time": "2023-01-11T17:15:55.816Z"
   },
   {
    "duration": 12,
    "start_time": "2023-01-11T17:15:55.844Z"
   },
   {
    "duration": 479,
    "start_time": "2023-01-11T17:15:55.858Z"
   },
   {
    "duration": 96,
    "start_time": "2023-01-11T17:15:56.341Z"
   },
   {
    "duration": 4,
    "start_time": "2023-01-11T17:15:56.439Z"
   },
   {
    "duration": 7,
    "start_time": "2023-01-11T17:15:56.444Z"
   },
   {
    "duration": 4084,
    "start_time": "2023-01-11T17:15:56.453Z"
   },
   {
    "duration": 12,
    "start_time": "2023-01-11T17:16:00.539Z"
   },
   {
    "duration": 42,
    "start_time": "2023-01-11T17:16:00.552Z"
   },
   {
    "duration": 1495,
    "start_time": "2023-01-11T18:01:26.664Z"
   },
   {
    "duration": 410,
    "start_time": "2023-01-11T18:01:28.161Z"
   },
   {
    "duration": 31,
    "start_time": "2023-01-11T18:01:28.574Z"
   },
   {
    "duration": 37,
    "start_time": "2023-01-11T18:01:28.607Z"
   },
   {
    "duration": 4,
    "start_time": "2023-01-11T18:01:28.646Z"
   },
   {
    "duration": 28,
    "start_time": "2023-01-11T18:01:28.652Z"
   },
   {
    "duration": 499,
    "start_time": "2023-01-11T18:01:28.682Z"
   },
   {
    "duration": 3,
    "start_time": "2023-01-11T18:01:29.183Z"
   },
   {
    "duration": 103,
    "start_time": "2023-01-11T18:01:29.187Z"
   },
   {
    "duration": 5,
    "start_time": "2023-01-11T18:01:29.293Z"
   },
   {
    "duration": 3855,
    "start_time": "2023-01-11T18:01:29.300Z"
   },
   {
    "duration": 23,
    "start_time": "2023-01-11T18:01:33.157Z"
   },
   {
    "duration": 24,
    "start_time": "2023-01-11T18:01:33.182Z"
   },
   {
    "duration": 11,
    "start_time": "2023-01-11T18:01:56.413Z"
   },
   {
    "duration": 6,
    "start_time": "2023-01-11T18:02:41.467Z"
   },
   {
    "duration": 5,
    "start_time": "2023-01-11T18:02:56.226Z"
   },
   {
    "duration": 11,
    "start_time": "2023-01-11T18:03:03.796Z"
   },
   {
    "duration": 105,
    "start_time": "2023-01-11T18:32:06.216Z"
   },
   {
    "duration": 1449,
    "start_time": "2023-01-11T18:32:12.053Z"
   },
   {
    "duration": 403,
    "start_time": "2023-01-11T18:32:13.504Z"
   },
   {
    "duration": 35,
    "start_time": "2023-01-11T18:32:13.909Z"
   },
   {
    "duration": 38,
    "start_time": "2023-01-11T18:32:13.947Z"
   },
   {
    "duration": 352,
    "start_time": "2023-01-11T18:32:13.987Z"
   },
   {
    "duration": 4,
    "start_time": "2023-01-11T18:32:14.341Z"
   },
   {
    "duration": 8,
    "start_time": "2023-01-11T18:32:14.347Z"
   },
   {
    "duration": 481,
    "start_time": "2023-01-11T18:32:14.356Z"
   },
   {
    "duration": 4,
    "start_time": "2023-01-11T18:32:14.841Z"
   },
   {
    "duration": 27,
    "start_time": "2023-01-11T18:32:14.938Z"
   },
   {
    "duration": 9,
    "start_time": "2023-01-11T18:32:14.967Z"
   },
   {
    "duration": 4218,
    "start_time": "2023-01-11T18:32:14.978Z"
   },
   {
    "duration": 17,
    "start_time": "2023-01-11T18:32:19.198Z"
   },
   {
    "duration": 27,
    "start_time": "2023-01-11T18:32:19.218Z"
   },
   {
    "duration": 1446,
    "start_time": "2023-01-12T05:26:52.176Z"
   },
   {
    "duration": 1620,
    "start_time": "2023-01-12T05:26:53.624Z"
   },
   {
    "duration": 26,
    "start_time": "2023-01-12T05:26:55.246Z"
   },
   {
    "duration": 32,
    "start_time": "2023-01-12T05:26:55.274Z"
   },
   {
    "duration": 49,
    "start_time": "2023-01-12T05:26:55.308Z"
   },
   {
    "duration": 369,
    "start_time": "2023-01-12T05:26:55.358Z"
   },
   {
    "duration": 5,
    "start_time": "2023-01-12T05:26:55.729Z"
   },
   {
    "duration": 8,
    "start_time": "2023-01-12T05:26:55.736Z"
   },
   {
    "duration": 394,
    "start_time": "2023-01-12T05:26:55.745Z"
   },
   {
    "duration": 80,
    "start_time": "2023-01-12T05:26:56.141Z"
   },
   {
    "duration": 5,
    "start_time": "2023-01-12T05:26:56.225Z"
   },
   {
    "duration": 4,
    "start_time": "2023-01-12T05:26:56.321Z"
   },
   {
    "duration": 3921,
    "start_time": "2023-01-12T05:26:56.327Z"
   },
   {
    "duration": 11,
    "start_time": "2023-01-12T05:27:00.249Z"
   },
   {
    "duration": 70,
    "start_time": "2023-01-12T05:27:00.262Z"
   },
   {
    "duration": 42,
    "start_time": "2023-01-12T05:27:02.515Z"
   },
   {
    "duration": 18,
    "start_time": "2023-01-12T05:27:46.324Z"
   },
   {
    "duration": 19,
    "start_time": "2023-01-12T07:13:49.443Z"
   },
   {
    "duration": 73,
    "start_time": "2023-01-12T07:14:27.450Z"
   },
   {
    "duration": 53,
    "start_time": "2023-01-12T07:14:45.621Z"
   },
   {
    "duration": 33,
    "start_time": "2023-01-12T07:15:14.981Z"
   },
   {
    "duration": 71,
    "start_time": "2023-01-12T07:16:15.302Z"
   },
   {
    "duration": 17,
    "start_time": "2023-01-12T07:16:21.646Z"
   },
   {
    "duration": 20,
    "start_time": "2023-01-12T07:16:55.825Z"
   },
   {
    "duration": 15,
    "start_time": "2023-01-12T07:17:22.163Z"
   },
   {
    "duration": 14,
    "start_time": "2023-01-12T07:18:47.277Z"
   },
   {
    "duration": 48,
    "start_time": "2023-01-12T07:19:08.187Z"
   },
   {
    "duration": 51,
    "start_time": "2023-01-12T07:19:13.542Z"
   },
   {
    "duration": 109,
    "start_time": "2023-01-12T07:19:40.430Z"
   },
   {
    "duration": 50,
    "start_time": "2023-01-12T07:19:46.261Z"
   },
   {
    "duration": 21,
    "start_time": "2023-01-12T07:20:03.005Z"
   },
   {
    "duration": 73,
    "start_time": "2023-01-12T07:20:32.783Z"
   },
   {
    "duration": 11,
    "start_time": "2023-01-12T07:20:37.097Z"
   },
   {
    "duration": 36,
    "start_time": "2023-01-12T07:20:52.211Z"
   },
   {
    "duration": 36,
    "start_time": "2023-01-12T07:29:57.317Z"
   },
   {
    "duration": 3,
    "start_time": "2023-01-12T07:30:45.397Z"
   },
   {
    "duration": 40,
    "start_time": "2023-01-12T07:30:52.677Z"
   },
   {
    "duration": 10,
    "start_time": "2023-01-12T07:33:01.104Z"
   },
   {
    "duration": 10,
    "start_time": "2023-01-12T07:33:41.100Z"
   },
   {
    "duration": 10,
    "start_time": "2023-01-12T07:34:25.700Z"
   },
   {
    "duration": 12,
    "start_time": "2023-01-12T07:35:21.597Z"
   },
   {
    "duration": 11,
    "start_time": "2023-01-12T07:35:46.142Z"
   },
   {
    "duration": 8,
    "start_time": "2023-01-12T07:36:29.048Z"
   },
   {
    "duration": 4,
    "start_time": "2023-01-12T07:36:34.612Z"
   },
   {
    "duration": 3,
    "start_time": "2023-01-12T07:36:37.504Z"
   },
   {
    "duration": 5,
    "start_time": "2023-01-12T07:37:31.620Z"
   },
   {
    "duration": 6,
    "start_time": "2023-01-12T07:37:36.677Z"
   },
   {
    "duration": 34,
    "start_time": "2023-01-12T07:37:46.604Z"
   },
   {
    "duration": 197,
    "start_time": "2023-01-12T07:38:43.316Z"
   },
   {
    "duration": 51,
    "start_time": "2023-01-12T07:40:50.013Z"
   },
   {
    "duration": 53,
    "start_time": "2023-01-12T07:40:59.343Z"
   },
   {
    "duration": 10,
    "start_time": "2023-01-12T07:43:02.662Z"
   },
   {
    "duration": 11,
    "start_time": "2023-01-12T07:43:10.786Z"
   },
   {
    "duration": 60,
    "start_time": "2023-01-12T07:43:31.723Z"
   },
   {
    "duration": 139,
    "start_time": "2023-01-12T07:43:53.742Z"
   },
   {
    "duration": 35,
    "start_time": "2023-01-12T07:49:03.317Z"
   },
   {
    "duration": 182,
    "start_time": "2023-01-12T07:49:13.906Z"
   },
   {
    "duration": 974,
    "start_time": "2023-01-12T07:49:50.137Z"
   },
   {
    "duration": 1023,
    "start_time": "2023-01-12T07:50:06.659Z"
   },
   {
    "duration": 1463,
    "start_time": "2023-01-12T07:50:18.279Z"
   },
   {
    "duration": 548,
    "start_time": "2023-01-12T07:50:19.744Z"
   },
   {
    "duration": 3,
    "start_time": "2023-01-12T07:50:20.294Z"
   },
   {
    "duration": 51,
    "start_time": "2023-01-12T07:50:20.300Z"
   },
   {
    "duration": 38,
    "start_time": "2023-01-12T07:50:20.353Z"
   },
   {
    "duration": 171,
    "start_time": "2023-01-12T07:50:20.394Z"
   },
   {
    "duration": 80,
    "start_time": "2023-01-12T07:50:20.567Z"
   },
   {
    "duration": 158,
    "start_time": "2023-01-12T07:50:20.650Z"
   },
   {
    "duration": 158,
    "start_time": "2023-01-12T07:50:20.810Z"
   },
   {
    "duration": 324,
    "start_time": "2023-01-12T07:50:20.971Z"
   },
   {
    "duration": 4,
    "start_time": "2023-01-12T07:50:21.297Z"
   },
   {
    "duration": 49,
    "start_time": "2023-01-12T07:50:21.303Z"
   },
   {
    "duration": 397,
    "start_time": "2023-01-12T07:50:21.355Z"
   },
   {
    "duration": 73,
    "start_time": "2023-01-12T07:50:21.755Z"
   },
   {
    "duration": 110,
    "start_time": "2023-01-12T07:50:21.832Z"
   },
   {
    "duration": 21,
    "start_time": "2023-01-12T07:50:21.944Z"
   },
   {
    "duration": 4379,
    "start_time": "2023-01-12T07:50:21.968Z"
   },
   {
    "duration": 13,
    "start_time": "2023-01-12T07:50:26.349Z"
   },
   {
    "duration": 30,
    "start_time": "2023-01-12T07:50:26.364Z"
   },
   {
    "duration": 153,
    "start_time": "2023-01-12T07:54:26.706Z"
   },
   {
    "duration": 1546,
    "start_time": "2023-01-12T07:55:37.752Z"
   },
   {
    "duration": 413,
    "start_time": "2023-01-12T07:55:39.300Z"
   },
   {
    "duration": 3,
    "start_time": "2023-01-12T07:55:39.715Z"
   },
   {
    "duration": 61,
    "start_time": "2023-01-12T07:55:39.722Z"
   },
   {
    "duration": 33,
    "start_time": "2023-01-12T07:55:39.785Z"
   },
   {
    "duration": 160,
    "start_time": "2023-01-12T07:55:39.820Z"
   },
   {
    "duration": 158,
    "start_time": "2023-01-12T07:55:39.982Z"
   },
   {
    "duration": 0,
    "start_time": "2023-01-12T07:55:40.141Z"
   },
   {
    "duration": 0,
    "start_time": "2023-01-12T07:55:40.143Z"
   },
   {
    "duration": 0,
    "start_time": "2023-01-12T07:55:40.143Z"
   },
   {
    "duration": 0,
    "start_time": "2023-01-12T07:55:40.144Z"
   },
   {
    "duration": 0,
    "start_time": "2023-01-12T07:55:40.146Z"
   },
   {
    "duration": 0,
    "start_time": "2023-01-12T07:55:40.147Z"
   },
   {
    "duration": 0,
    "start_time": "2023-01-12T07:55:40.148Z"
   },
   {
    "duration": 0,
    "start_time": "2023-01-12T07:55:40.149Z"
   },
   {
    "duration": 0,
    "start_time": "2023-01-12T07:55:40.150Z"
   },
   {
    "duration": 0,
    "start_time": "2023-01-12T07:55:40.151Z"
   },
   {
    "duration": 1,
    "start_time": "2023-01-12T07:55:40.151Z"
   },
   {
    "duration": 0,
    "start_time": "2023-01-12T07:55:40.152Z"
   },
   {
    "duration": 83,
    "start_time": "2023-01-12T07:55:50.482Z"
   },
   {
    "duration": 63,
    "start_time": "2023-01-12T07:55:55.178Z"
   },
   {
    "duration": 93,
    "start_time": "2023-01-12T07:56:06.177Z"
   },
   {
    "duration": 87,
    "start_time": "2023-01-12T07:56:12.106Z"
   },
   {
    "duration": 184,
    "start_time": "2023-01-12T07:56:17.410Z"
   },
   {
    "duration": 118,
    "start_time": "2023-01-12T07:56:27.074Z"
   },
   {
    "duration": 143,
    "start_time": "2023-01-12T08:05:04.857Z"
   },
   {
    "duration": 14,
    "start_time": "2023-01-12T08:08:01.425Z"
   },
   {
    "duration": 28,
    "start_time": "2023-01-12T08:08:41.274Z"
   },
   {
    "duration": 34,
    "start_time": "2023-01-12T08:09:05.865Z"
   },
   {
    "duration": 1386,
    "start_time": "2023-01-12T08:10:16.462Z"
   },
   {
    "duration": 374,
    "start_time": "2023-01-12T08:10:17.850Z"
   },
   {
    "duration": 4,
    "start_time": "2023-01-12T08:10:18.225Z"
   },
   {
    "duration": 31,
    "start_time": "2023-01-12T08:10:18.232Z"
   },
   {
    "duration": 33,
    "start_time": "2023-01-12T08:10:18.264Z"
   },
   {
    "duration": 153,
    "start_time": "2023-01-12T08:10:18.321Z"
   },
   {
    "duration": 66,
    "start_time": "2023-01-12T08:10:18.476Z"
   },
   {
    "duration": 138,
    "start_time": "2023-01-12T08:10:18.543Z"
   },
   {
    "duration": 156,
    "start_time": "2023-01-12T08:10:18.682Z"
   },
   {
    "duration": 144,
    "start_time": "2023-01-12T08:10:18.841Z"
   },
   {
    "duration": 0,
    "start_time": "2023-01-12T08:10:18.987Z"
   },
   {
    "duration": 0,
    "start_time": "2023-01-12T08:10:18.989Z"
   },
   {
    "duration": 0,
    "start_time": "2023-01-12T08:10:18.990Z"
   },
   {
    "duration": 0,
    "start_time": "2023-01-12T08:10:18.991Z"
   },
   {
    "duration": 0,
    "start_time": "2023-01-12T08:10:18.993Z"
   },
   {
    "duration": 0,
    "start_time": "2023-01-12T08:10:18.995Z"
   },
   {
    "duration": 0,
    "start_time": "2023-01-12T08:10:18.997Z"
   },
   {
    "duration": 0,
    "start_time": "2023-01-12T08:10:18.998Z"
   },
   {
    "duration": 0,
    "start_time": "2023-01-12T08:10:19.024Z"
   },
   {
    "duration": 0,
    "start_time": "2023-01-12T08:10:19.026Z"
   },
   {
    "duration": 233,
    "start_time": "2023-01-12T08:11:55.617Z"
   },
   {
    "duration": 109,
    "start_time": "2023-01-12T08:13:13.577Z"
   },
   {
    "duration": 1463,
    "start_time": "2023-01-12T08:13:19.349Z"
   },
   {
    "duration": 388,
    "start_time": "2023-01-12T08:13:20.814Z"
   },
   {
    "duration": 4,
    "start_time": "2023-01-12T08:13:21.205Z"
   },
   {
    "duration": 53,
    "start_time": "2023-01-12T08:13:21.212Z"
   },
   {
    "duration": 68,
    "start_time": "2023-01-12T08:13:21.267Z"
   },
   {
    "duration": 194,
    "start_time": "2023-01-12T08:13:21.338Z"
   },
   {
    "duration": 94,
    "start_time": "2023-01-12T08:13:21.534Z"
   },
   {
    "duration": 209,
    "start_time": "2023-01-12T08:13:21.629Z"
   },
   {
    "duration": 249,
    "start_time": "2023-01-12T08:13:21.841Z"
   },
   {
    "duration": 267,
    "start_time": "2023-01-12T08:13:22.094Z"
   },
   {
    "duration": 327,
    "start_time": "2023-01-12T08:13:22.363Z"
   },
   {
    "duration": 4,
    "start_time": "2023-01-12T08:13:22.692Z"
   },
   {
    "duration": 7,
    "start_time": "2023-01-12T08:13:22.697Z"
   },
   {
    "duration": 519,
    "start_time": "2023-01-12T08:13:22.705Z"
   },
   {
    "duration": 5,
    "start_time": "2023-01-12T08:13:23.227Z"
   },
   {
    "duration": 107,
    "start_time": "2023-01-12T08:13:23.234Z"
   },
   {
    "duration": 15,
    "start_time": "2023-01-12T08:13:23.342Z"
   },
   {
    "duration": 4346,
    "start_time": "2023-01-12T08:13:23.359Z"
   },
   {
    "duration": 24,
    "start_time": "2023-01-12T08:13:27.706Z"
   },
   {
    "duration": 13,
    "start_time": "2023-01-12T08:13:27.732Z"
   },
   {
    "duration": 1424,
    "start_time": "2023-01-12T08:14:08.457Z"
   },
   {
    "duration": 391,
    "start_time": "2023-01-12T08:14:09.883Z"
   },
   {
    "duration": 4,
    "start_time": "2023-01-12T08:14:10.276Z"
   },
   {
    "duration": 45,
    "start_time": "2023-01-12T08:14:10.283Z"
   },
   {
    "duration": 39,
    "start_time": "2023-01-12T08:14:10.330Z"
   },
   {
    "duration": 200,
    "start_time": "2023-01-12T08:14:10.371Z"
   },
   {
    "duration": 86,
    "start_time": "2023-01-12T08:14:10.572Z"
   },
   {
    "duration": 183,
    "start_time": "2023-01-12T08:14:10.660Z"
   },
   {
    "duration": 165,
    "start_time": "2023-01-12T08:14:10.846Z"
   },
   {
    "duration": 240,
    "start_time": "2023-01-12T08:14:11.014Z"
   },
   {
    "duration": 295,
    "start_time": "2023-01-12T08:14:11.256Z"
   },
   {
    "duration": 5,
    "start_time": "2023-01-12T08:14:11.552Z"
   },
   {
    "duration": 9,
    "start_time": "2023-01-12T08:14:11.558Z"
   },
   {
    "duration": 461,
    "start_time": "2023-01-12T08:14:11.570Z"
   },
   {
    "duration": 3,
    "start_time": "2023-01-12T08:14:12.033Z"
   },
   {
    "duration": 101,
    "start_time": "2023-01-12T08:14:12.124Z"
   },
   {
    "duration": 5,
    "start_time": "2023-01-12T08:14:12.228Z"
   },
   {
    "duration": 4355,
    "start_time": "2023-01-12T08:14:12.235Z"
   },
   {
    "duration": 11,
    "start_time": "2023-01-12T08:14:16.592Z"
   },
   {
    "duration": 27,
    "start_time": "2023-01-12T08:14:16.607Z"
   },
   {
    "duration": 1567,
    "start_time": "2023-01-12T08:14:48.007Z"
   },
   {
    "duration": 404,
    "start_time": "2023-01-12T08:14:49.576Z"
   },
   {
    "duration": 3,
    "start_time": "2023-01-12T08:14:49.982Z"
   },
   {
    "duration": 49,
    "start_time": "2023-01-12T08:14:49.987Z"
   },
   {
    "duration": 49,
    "start_time": "2023-01-12T08:14:50.038Z"
   },
   {
    "duration": 181,
    "start_time": "2023-01-12T08:14:50.089Z"
   },
   {
    "duration": 81,
    "start_time": "2023-01-12T08:14:50.271Z"
   },
   {
    "duration": 152,
    "start_time": "2023-01-12T08:14:50.354Z"
   },
   {
    "duration": 194,
    "start_time": "2023-01-12T08:14:50.508Z"
   },
   {
    "duration": 248,
    "start_time": "2023-01-12T08:14:50.706Z"
   },
   {
    "duration": 384,
    "start_time": "2023-01-12T08:14:50.957Z"
   },
   {
    "duration": 7,
    "start_time": "2023-01-12T08:14:51.344Z"
   },
   {
    "duration": 15,
    "start_time": "2023-01-12T08:14:51.352Z"
   },
   {
    "duration": 557,
    "start_time": "2023-01-12T08:14:51.369Z"
   },
   {
    "duration": 3,
    "start_time": "2023-01-12T08:14:51.928Z"
   },
   {
    "duration": 100,
    "start_time": "2023-01-12T08:14:51.933Z"
   },
   {
    "duration": 16,
    "start_time": "2023-01-12T08:14:52.035Z"
   },
   {
    "duration": 4182,
    "start_time": "2023-01-12T08:14:52.053Z"
   },
   {
    "duration": 10,
    "start_time": "2023-01-12T08:14:56.237Z"
   },
   {
    "duration": 17,
    "start_time": "2023-01-12T08:14:56.249Z"
   },
   {
    "duration": 239,
    "start_time": "2023-01-12T08:21:53.922Z"
   },
   {
    "duration": 601,
    "start_time": "2023-01-12T08:22:16.977Z"
   },
   {
    "duration": 399,
    "start_time": "2023-01-12T08:22:34.281Z"
   },
   {
    "duration": 536,
    "start_time": "2023-01-12T08:22:55.730Z"
   },
   {
    "duration": 295,
    "start_time": "2023-01-12T08:23:11.922Z"
   },
   {
    "duration": 397,
    "start_time": "2023-01-12T08:23:26.425Z"
   },
   {
    "duration": 261,
    "start_time": "2023-01-12T08:23:44.836Z"
   },
   {
    "duration": 415,
    "start_time": "2023-01-12T08:29:01.394Z"
   },
   {
    "duration": 363,
    "start_time": "2023-01-12T08:29:09.361Z"
   },
   {
    "duration": 521,
    "start_time": "2023-01-12T08:29:31.441Z"
   },
   {
    "duration": 2,
    "start_time": "2023-01-12T08:29:55.450Z"
   },
   {
    "duration": 142,
    "start_time": "2023-01-12T08:31:21.466Z"
   },
   {
    "duration": 295,
    "start_time": "2023-01-12T08:31:26.548Z"
   },
   {
    "duration": 407,
    "start_time": "2023-01-12T08:32:18.578Z"
   },
   {
    "duration": 1456,
    "start_time": "2023-01-12T08:33:51.990Z"
   },
   {
    "duration": 391,
    "start_time": "2023-01-12T08:33:53.448Z"
   },
   {
    "duration": 3,
    "start_time": "2023-01-12T08:33:53.841Z"
   },
   {
    "duration": 35,
    "start_time": "2023-01-12T08:33:53.847Z"
   },
   {
    "duration": 52,
    "start_time": "2023-01-12T08:33:53.884Z"
   },
   {
    "duration": 154,
    "start_time": "2023-01-12T08:33:53.938Z"
   },
   {
    "duration": 91,
    "start_time": "2023-01-12T08:33:54.094Z"
   },
   {
    "duration": 238,
    "start_time": "2023-01-12T08:33:54.188Z"
   },
   {
    "duration": 150,
    "start_time": "2023-01-12T08:33:54.428Z"
   },
   {
    "duration": 232,
    "start_time": "2023-01-12T08:33:54.582Z"
   },
   {
    "duration": 421,
    "start_time": "2023-01-12T08:33:54.821Z"
   },
   {
    "duration": 464,
    "start_time": "2023-01-12T08:33:55.244Z"
   },
   {
    "duration": 439,
    "start_time": "2023-01-12T08:33:55.710Z"
   },
   {
    "duration": 393,
    "start_time": "2023-01-12T08:33:56.151Z"
   },
   {
    "duration": 400,
    "start_time": "2023-01-12T08:33:56.546Z"
   },
   {
    "duration": 507,
    "start_time": "2023-01-12T08:33:56.948Z"
   },
   {
    "duration": 410,
    "start_time": "2023-01-12T08:33:57.457Z"
   },
   {
    "duration": 426,
    "start_time": "2023-01-12T08:33:57.870Z"
   },
   {
    "duration": 513,
    "start_time": "2023-01-12T08:33:58.299Z"
   },
   {
    "duration": 292,
    "start_time": "2023-01-12T08:33:58.814Z"
   },
   {
    "duration": 13,
    "start_time": "2023-01-12T08:33:59.108Z"
   },
   {
    "duration": 7,
    "start_time": "2023-01-12T08:33:59.124Z"
   },
   {
    "duration": 399,
    "start_time": "2023-01-12T08:33:59.133Z"
   },
   {
    "duration": 88,
    "start_time": "2023-01-12T08:33:59.534Z"
   },
   {
    "duration": 99,
    "start_time": "2023-01-12T08:33:59.624Z"
   },
   {
    "duration": 5,
    "start_time": "2023-01-12T08:33:59.726Z"
   },
   {
    "duration": 4125,
    "start_time": "2023-01-12T08:33:59.733Z"
   },
   {
    "duration": 11,
    "start_time": "2023-01-12T08:34:03.861Z"
   },
   {
    "duration": 8,
    "start_time": "2023-01-12T08:34:03.874Z"
   },
   {
    "duration": 387,
    "start_time": "2023-01-12T08:35:13.017Z"
   },
   {
    "duration": 417,
    "start_time": "2023-01-12T08:35:33.498Z"
   },
   {
    "duration": 554,
    "start_time": "2023-01-12T08:35:48.707Z"
   },
   {
    "duration": 358,
    "start_time": "2023-01-12T08:35:55.834Z"
   },
   {
    "duration": 216,
    "start_time": "2023-01-12T08:36:03.083Z"
   },
   {
    "duration": 95,
    "start_time": "2023-01-12T08:41:33.922Z"
   },
   {
    "duration": 485,
    "start_time": "2023-01-12T08:44:55.121Z"
   },
   {
    "duration": 228,
    "start_time": "2023-01-12T08:45:08.458Z"
   },
   {
    "duration": 306,
    "start_time": "2023-01-12T08:45:28.497Z"
   },
   {
    "duration": 278,
    "start_time": "2023-01-12T08:45:38.578Z"
   },
   {
    "duration": 255,
    "start_time": "2023-01-12T08:46:02.130Z"
   },
   {
    "duration": 379,
    "start_time": "2023-01-12T08:46:40.913Z"
   },
   {
    "duration": 320,
    "start_time": "2023-01-12T08:46:44.080Z"
   },
   {
    "duration": 237,
    "start_time": "2023-01-12T08:51:36.449Z"
   },
   {
    "duration": 1400,
    "start_time": "2023-01-12T08:57:24.955Z"
   },
   {
    "duration": 384,
    "start_time": "2023-01-12T08:57:26.357Z"
   },
   {
    "duration": 5,
    "start_time": "2023-01-12T08:57:26.743Z"
   },
   {
    "duration": 45,
    "start_time": "2023-01-12T08:57:26.751Z"
   },
   {
    "duration": 35,
    "start_time": "2023-01-12T08:57:26.798Z"
   },
   {
    "duration": 150,
    "start_time": "2023-01-12T08:57:26.835Z"
   },
   {
    "duration": 78,
    "start_time": "2023-01-12T08:57:26.987Z"
   },
   {
    "duration": 159,
    "start_time": "2023-01-12T08:57:27.067Z"
   },
   {
    "duration": 156,
    "start_time": "2023-01-12T08:57:27.228Z"
   },
   {
    "duration": 222,
    "start_time": "2023-01-12T08:57:27.387Z"
   },
   {
    "duration": 436,
    "start_time": "2023-01-12T08:57:27.611Z"
   },
   {
    "duration": 452,
    "start_time": "2023-01-12T08:57:28.049Z"
   },
   {
    "duration": 403,
    "start_time": "2023-01-12T08:57:28.503Z"
   },
   {
    "duration": 477,
    "start_time": "2023-01-12T08:57:28.908Z"
   },
   {
    "duration": 386,
    "start_time": "2023-01-12T08:57:29.386Z"
   },
   {
    "duration": 521,
    "start_time": "2023-01-12T08:57:29.773Z"
   },
   {
    "duration": 394,
    "start_time": "2023-01-12T08:57:30.295Z"
   },
   {
    "duration": 236,
    "start_time": "2023-01-12T08:57:30.691Z"
   },
   {
    "duration": 427,
    "start_time": "2023-01-12T08:57:30.929Z"
   },
   {
    "duration": 543,
    "start_time": "2023-01-12T08:57:31.358Z"
   },
   {
    "duration": 393,
    "start_time": "2023-01-12T08:57:31.903Z"
   },
   {
    "duration": 400,
    "start_time": "2023-01-12T08:57:32.298Z"
   },
   {
    "duration": 298,
    "start_time": "2023-01-12T08:57:32.699Z"
   },
   {
    "duration": 273,
    "start_time": "2023-01-12T08:57:32.999Z"
   },
   {
    "duration": 399,
    "start_time": "2023-01-12T08:57:33.273Z"
   },
   {
    "duration": 4,
    "start_time": "2023-01-12T08:57:33.673Z"
   },
   {
    "duration": 12,
    "start_time": "2023-01-12T08:57:33.679Z"
   },
   {
    "duration": 442,
    "start_time": "2023-01-12T08:57:33.694Z"
   },
   {
    "duration": 85,
    "start_time": "2023-01-12T08:57:34.138Z"
   },
   {
    "duration": 101,
    "start_time": "2023-01-12T08:57:34.225Z"
   },
   {
    "duration": 11,
    "start_time": "2023-01-12T08:57:34.328Z"
   },
   {
    "duration": 4107,
    "start_time": "2023-01-12T08:57:34.341Z"
   },
   {
    "duration": 12,
    "start_time": "2023-01-12T08:57:38.451Z"
   },
   {
    "duration": 12,
    "start_time": "2023-01-12T08:57:38.465Z"
   },
   {
    "duration": 5,
    "start_time": "2023-01-12T09:00:34.629Z"
   },
   {
    "duration": 4,
    "start_time": "2023-01-12T09:01:30.608Z"
   },
   {
    "duration": 4,
    "start_time": "2023-01-12T09:01:53.171Z"
   },
   {
    "duration": 4,
    "start_time": "2023-01-12T09:02:07.784Z"
   },
   {
    "duration": 4,
    "start_time": "2023-01-12T09:02:15.640Z"
   },
   {
    "duration": 3,
    "start_time": "2023-01-12T09:02:21.320Z"
   },
   {
    "duration": 4,
    "start_time": "2023-01-12T09:03:13.208Z"
   },
   {
    "duration": 1434,
    "start_time": "2023-01-12T09:05:45.203Z"
   },
   {
    "duration": 380,
    "start_time": "2023-01-12T09:05:46.639Z"
   },
   {
    "duration": 3,
    "start_time": "2023-01-12T09:05:47.022Z"
   },
   {
    "duration": 32,
    "start_time": "2023-01-12T09:05:47.027Z"
   },
   {
    "duration": 34,
    "start_time": "2023-01-12T09:05:47.061Z"
   },
   {
    "duration": 157,
    "start_time": "2023-01-12T09:05:47.097Z"
   },
   {
    "duration": 66,
    "start_time": "2023-01-12T09:05:47.256Z"
   },
   {
    "duration": 125,
    "start_time": "2023-01-12T09:05:47.323Z"
   },
   {
    "duration": 134,
    "start_time": "2023-01-12T09:05:47.449Z"
   },
   {
    "duration": 210,
    "start_time": "2023-01-12T09:05:47.586Z"
   },
   {
    "duration": 425,
    "start_time": "2023-01-12T09:05:47.798Z"
   },
   {
    "duration": 434,
    "start_time": "2023-01-12T09:05:48.224Z"
   },
   {
    "duration": 412,
    "start_time": "2023-01-12T09:05:48.659Z"
   },
   {
    "duration": 432,
    "start_time": "2023-01-12T09:05:49.073Z"
   },
   {
    "duration": 411,
    "start_time": "2023-01-12T09:05:49.506Z"
   },
   {
    "duration": 497,
    "start_time": "2023-01-12T09:05:49.922Z"
   },
   {
    "duration": 391,
    "start_time": "2023-01-12T09:05:50.422Z"
   },
   {
    "duration": 226,
    "start_time": "2023-01-12T09:05:50.815Z"
   },
   {
    "duration": 403,
    "start_time": "2023-01-12T09:05:51.043Z"
   },
   {
    "duration": 544,
    "start_time": "2023-01-12T09:05:51.447Z"
   },
   {
    "duration": 402,
    "start_time": "2023-01-12T09:05:51.993Z"
   },
   {
    "duration": 392,
    "start_time": "2023-01-12T09:05:52.396Z"
   },
   {
    "duration": 298,
    "start_time": "2023-01-12T09:05:52.789Z"
   },
   {
    "duration": 285,
    "start_time": "2023-01-12T09:05:53.089Z"
   },
   {
    "duration": 412,
    "start_time": "2023-01-12T09:05:53.376Z"
   },
   {
    "duration": 3,
    "start_time": "2023-01-12T09:05:53.790Z"
   },
   {
    "duration": 21,
    "start_time": "2023-01-12T09:05:53.795Z"
   },
   {
    "duration": 424,
    "start_time": "2023-01-12T09:05:53.821Z"
   },
   {
    "duration": 76,
    "start_time": "2023-01-12T09:05:54.247Z"
   },
   {
    "duration": 102,
    "start_time": "2023-01-12T09:05:54.325Z"
   },
   {
    "duration": 12,
    "start_time": "2023-01-12T09:05:54.429Z"
   },
   {
    "duration": 113,
    "start_time": "2023-01-12T09:05:54.442Z"
   },
   {
    "duration": 0,
    "start_time": "2023-01-12T09:05:54.557Z"
   },
   {
    "duration": 0,
    "start_time": "2023-01-12T09:05:54.559Z"
   },
   {
    "duration": 18,
    "start_time": "2023-01-12T09:07:24.807Z"
   },
   {
    "duration": 1452,
    "start_time": "2023-01-12T09:08:36.890Z"
   },
   {
    "duration": 379,
    "start_time": "2023-01-12T09:08:38.344Z"
   },
   {
    "duration": 4,
    "start_time": "2023-01-12T09:08:38.724Z"
   },
   {
    "duration": 33,
    "start_time": "2023-01-12T09:08:38.729Z"
   },
   {
    "duration": 38,
    "start_time": "2023-01-12T09:08:38.764Z"
   },
   {
    "duration": 186,
    "start_time": "2023-01-12T09:08:38.804Z"
   },
   {
    "duration": 65,
    "start_time": "2023-01-12T09:08:38.992Z"
   },
   {
    "duration": 141,
    "start_time": "2023-01-12T09:08:39.059Z"
   },
   {
    "duration": 162,
    "start_time": "2023-01-12T09:08:39.202Z"
   },
   {
    "duration": 222,
    "start_time": "2023-01-12T09:08:39.367Z"
   },
   {
    "duration": 434,
    "start_time": "2023-01-12T09:08:39.591Z"
   },
   {
    "duration": 468,
    "start_time": "2023-01-12T09:08:40.027Z"
   },
   {
    "duration": 388,
    "start_time": "2023-01-12T09:08:40.497Z"
   },
   {
    "duration": 403,
    "start_time": "2023-01-12T09:08:40.887Z"
   },
   {
    "duration": 413,
    "start_time": "2023-01-12T09:08:41.292Z"
   },
   {
    "duration": 517,
    "start_time": "2023-01-12T09:08:41.707Z"
   },
   {
    "duration": 400,
    "start_time": "2023-01-12T09:08:42.226Z"
   },
   {
    "duration": 225,
    "start_time": "2023-01-12T09:08:42.628Z"
   },
   {
    "duration": 412,
    "start_time": "2023-01-12T09:08:42.855Z"
   },
   {
    "duration": 511,
    "start_time": "2023-01-12T09:08:43.269Z"
   },
   {
    "duration": 465,
    "start_time": "2023-01-12T09:08:43.782Z"
   },
   {
    "duration": 430,
    "start_time": "2023-01-12T09:08:44.250Z"
   },
   {
    "duration": 311,
    "start_time": "2023-01-12T09:08:44.682Z"
   },
   {
    "duration": 293,
    "start_time": "2023-01-12T09:08:44.996Z"
   },
   {
    "duration": 301,
    "start_time": "2023-01-12T09:08:45.291Z"
   },
   {
    "duration": 4,
    "start_time": "2023-01-12T09:08:45.593Z"
   },
   {
    "duration": 27,
    "start_time": "2023-01-12T09:08:45.599Z"
   },
   {
    "duration": 409,
    "start_time": "2023-01-12T09:08:45.630Z"
   },
   {
    "duration": 82,
    "start_time": "2023-01-12T09:08:46.041Z"
   },
   {
    "duration": 102,
    "start_time": "2023-01-12T09:08:46.125Z"
   },
   {
    "duration": 22,
    "start_time": "2023-01-12T09:08:46.229Z"
   },
   {
    "duration": 4316,
    "start_time": "2023-01-12T09:08:46.253Z"
   },
   {
    "duration": 12,
    "start_time": "2023-01-12T09:08:50.571Z"
   },
   {
    "duration": 9,
    "start_time": "2023-01-12T09:08:50.584Z"
   },
   {
    "duration": 14,
    "start_time": "2023-01-12T09:15:59.464Z"
   },
   {
    "duration": 1496,
    "start_time": "2023-01-12T09:18:52.800Z"
   },
   {
    "duration": 386,
    "start_time": "2023-01-12T09:18:54.299Z"
   },
   {
    "duration": 4,
    "start_time": "2023-01-12T09:18:54.686Z"
   },
   {
    "duration": 36,
    "start_time": "2023-01-12T09:18:54.693Z"
   },
   {
    "duration": 35,
    "start_time": "2023-01-12T09:18:54.731Z"
   },
   {
    "duration": 173,
    "start_time": "2023-01-12T09:18:54.768Z"
   },
   {
    "duration": 56,
    "start_time": "2023-01-12T09:18:54.943Z"
   },
   {
    "duration": 143,
    "start_time": "2023-01-12T09:18:55.000Z"
   },
   {
    "duration": 140,
    "start_time": "2023-01-12T09:18:55.145Z"
   },
   {
    "duration": 222,
    "start_time": "2023-01-12T09:18:55.287Z"
   },
   {
    "duration": 437,
    "start_time": "2023-01-12T09:18:55.511Z"
   },
   {
    "duration": 478,
    "start_time": "2023-01-12T09:18:55.950Z"
   },
   {
    "duration": 385,
    "start_time": "2023-01-12T09:18:56.430Z"
   },
   {
    "duration": 412,
    "start_time": "2023-01-12T09:18:56.817Z"
   },
   {
    "duration": 402,
    "start_time": "2023-01-12T09:18:57.231Z"
   },
   {
    "duration": 517,
    "start_time": "2023-01-12T09:18:57.634Z"
   },
   {
    "duration": 401,
    "start_time": "2023-01-12T09:18:58.153Z"
   },
   {
    "duration": 225,
    "start_time": "2023-01-12T09:18:58.556Z"
   },
   {
    "duration": 443,
    "start_time": "2023-01-12T09:18:58.782Z"
   },
   {
    "duration": 504,
    "start_time": "2023-01-12T09:18:59.226Z"
   },
   {
    "duration": 405,
    "start_time": "2023-01-12T09:18:59.732Z"
   },
   {
    "duration": 406,
    "start_time": "2023-01-12T09:19:00.139Z"
   },
   {
    "duration": 253,
    "start_time": "2023-01-12T09:19:00.547Z"
   },
   {
    "duration": 280,
    "start_time": "2023-01-12T09:19:00.802Z"
   },
   {
    "duration": 294,
    "start_time": "2023-01-12T09:19:01.084Z"
   },
   {
    "duration": 3,
    "start_time": "2023-01-12T09:19:01.380Z"
   },
   {
    "duration": 26,
    "start_time": "2023-01-12T09:19:01.385Z"
   },
   {
    "duration": 509,
    "start_time": "2023-01-12T09:19:01.414Z"
   },
   {
    "duration": 4,
    "start_time": "2023-01-12T09:19:01.925Z"
   },
   {
    "duration": 101,
    "start_time": "2023-01-12T09:19:01.930Z"
   },
   {
    "duration": 14,
    "start_time": "2023-01-12T09:19:02.033Z"
   },
   {
    "duration": 4256,
    "start_time": "2023-01-12T09:19:02.048Z"
   },
   {
    "duration": 20,
    "start_time": "2023-01-12T09:19:06.306Z"
   },
   {
    "duration": 8,
    "start_time": "2023-01-12T09:19:06.327Z"
   },
   {
    "duration": 1329,
    "start_time": "2023-01-12T09:19:42.478Z"
   },
   {
    "duration": 413,
    "start_time": "2023-01-12T09:19:43.809Z"
   },
   {
    "duration": 4,
    "start_time": "2023-01-12T09:19:44.224Z"
   },
   {
    "duration": 50,
    "start_time": "2023-01-12T09:19:44.231Z"
   },
   {
    "duration": 46,
    "start_time": "2023-01-12T09:19:44.284Z"
   },
   {
    "duration": 146,
    "start_time": "2023-01-12T09:19:44.331Z"
   },
   {
    "duration": 65,
    "start_time": "2023-01-12T09:19:44.479Z"
   },
   {
    "duration": 134,
    "start_time": "2023-01-12T09:19:44.546Z"
   },
   {
    "duration": 147,
    "start_time": "2023-01-12T09:19:44.682Z"
   },
   {
    "duration": 225,
    "start_time": "2023-01-12T09:19:44.832Z"
   },
   {
    "duration": 445,
    "start_time": "2023-01-12T09:19:45.059Z"
   },
   {
    "duration": 494,
    "start_time": "2023-01-12T09:19:45.506Z"
   },
   {
    "duration": 409,
    "start_time": "2023-01-12T09:19:46.002Z"
   },
   {
    "duration": 422,
    "start_time": "2023-01-12T09:19:46.412Z"
   },
   {
    "duration": 419,
    "start_time": "2023-01-12T09:19:46.835Z"
   },
   {
    "duration": 511,
    "start_time": "2023-01-12T09:19:47.256Z"
   },
   {
    "duration": 392,
    "start_time": "2023-01-12T09:19:47.768Z"
   },
   {
    "duration": 223,
    "start_time": "2023-01-12T09:19:48.161Z"
   },
   {
    "duration": 420,
    "start_time": "2023-01-12T09:19:48.386Z"
   },
   {
    "duration": 569,
    "start_time": "2023-01-12T09:19:48.808Z"
   },
   {
    "duration": 419,
    "start_time": "2023-01-12T09:19:49.378Z"
   },
   {
    "duration": 431,
    "start_time": "2023-01-12T09:19:49.799Z"
   },
   {
    "duration": 277,
    "start_time": "2023-01-12T09:19:50.232Z"
   },
   {
    "duration": 287,
    "start_time": "2023-01-12T09:19:50.511Z"
   },
   {
    "duration": 396,
    "start_time": "2023-01-12T09:19:50.800Z"
   },
   {
    "duration": 5,
    "start_time": "2023-01-12T09:19:51.198Z"
   },
   {
    "duration": 18,
    "start_time": "2023-01-12T09:19:51.205Z"
   },
   {
    "duration": 414,
    "start_time": "2023-01-12T09:19:51.227Z"
   },
   {
    "duration": 80,
    "start_time": "2023-01-12T09:19:51.643Z"
   },
   {
    "duration": 101,
    "start_time": "2023-01-12T09:19:51.725Z"
   },
   {
    "duration": 22,
    "start_time": "2023-01-12T09:19:51.828Z"
   },
   {
    "duration": 4195,
    "start_time": "2023-01-12T09:19:51.852Z"
   },
   {
    "duration": 13,
    "start_time": "2023-01-12T09:19:56.049Z"
   },
   {
    "duration": 9,
    "start_time": "2023-01-12T09:19:56.064Z"
   },
   {
    "duration": 285,
    "start_time": "2023-01-12T10:32:08.053Z"
   }
  ],
  "kernelspec": {
   "display_name": "Python 3 (ipykernel)",
   "language": "python",
   "name": "python3"
  },
  "language_info": {
   "codemirror_mode": {
    "name": "ipython",
    "version": 3
   },
   "file_extension": ".py",
   "mimetype": "text/x-python",
   "name": "python",
   "nbconvert_exporter": "python",
   "pygments_lexer": "ipython3",
   "version": "3.9.5"
  },
  "toc": {
   "base_numbering": 1,
   "nav_menu": {},
   "number_sections": true,
   "sideBar": true,
   "skip_h1_title": true,
   "title_cell": "Table of Contents",
   "title_sidebar": "Contents",
   "toc_cell": false,
   "toc_position": {},
   "toc_section_display": true,
   "toc_window_display": false
  }
 },
 "nbformat": 4,
 "nbformat_minor": 2
}
